{
 "cells": [
  {
   "cell_type": "markdown",
   "metadata": {},
   "source": [
    "Задача 1. Известно, что генеральная совокупность распределена нормально\n",
    "со средним квадратическим отклонением, равным 16.\n",
    "Найти доверительный интервал для оценки математического ожидания с надежностью\n",
    "0.95,\n",
    "если выборочная средняя M = 80, а объем выборки n = 256."
   ]
  },
  {
   "cell_type": "code",
   "execution_count": 1,
   "metadata": {},
   "outputs": [
    {
     "data": {
      "text/plain": [
       "'[78.04;81.96]'"
      ]
     },
     "execution_count": 1,
     "metadata": {},
     "output_type": "execute_result"
    }
   ],
   "source": [
    "from math import sqrt\n",
    "import pandas as pd\n",
    "import numpy as np\n",
    "\n",
    "M = 80\n",
    "n = 256\n",
    "std = 16\n",
    "Z = 1.96\n",
    "border_up = M + Z*(std/sqrt(n))\n",
    "border_down = M - Z*(std/sqrt(n))\n",
    "f'[{border_down};{border_up}]'"
   ]
  },
  {
   "cell_type": "markdown",
   "metadata": {},
   "source": [
    "Задача 2. В результате 10 независимых измерений некоторой величины X, выполненных с\n",
    "одинаковой точностью,\n",
    "получены опытные данные:\n",
    "6.9, 6.1, 6.2, 6.8, 7.5, 6.3, 6.4, 6.9, 6.7, 6.1\n",
    "Предполагая, что результаты измерений подчинены нормальному закону распределения\n",
    "вероятностей,\n",
    "оценить истинное значение величины X при помощи доверительного интервала,\n",
    "покрывающего это\n",
    "значение с доверительной вероятностью 0,95."
   ]
  },
  {
   "cell_type": "code",
   "execution_count": 2,
   "metadata": {},
   "outputs": [
    {
     "data": {
      "text/plain": [
       "'[6.267515851415713;6.912484148584288]'"
      ]
     },
     "execution_count": 2,
     "metadata": {},
     "output_type": "execute_result"
    }
   ],
   "source": [
    "import pandas as pd\n",
    "import matplotlib.pyplot as plt\n",
    "import numpy as np\n",
    "import scipy.stats as st\n",
    "\n",
    "x = [6.9, 6.1, 6.2, 6.8, 7.5, 6.3, 6.4, 6.9, 6.7, 6.1]\n",
    "df = len(x) - 1\n",
    "t = st.t.ppf(1 - .05/2, df=df)\n",
    "\n",
    "x_mean = np.mean(x)\n",
    "std = np.std(x, ddof=1)\n",
    "n = len(x)\n",
    "down_border = x_mean - t*(std/sqrt(n))\n",
    "high_border = x_mean + t*(std/sqrt(n))\n",
    "# с 95% вероятностью можно предполагать, что истинное среднее (генеральной совокупности) лежит в данном диапазоне\n",
    "f\"[{down_border};{high_border}]\"\n"
   ]
  },
  {
   "cell_type": "markdown",
   "metadata": {},
   "source": [
    "Задача 3. Рост дочерей 175, 167, 154, 174, 178, 148, 160, 167, 169, 170\n",
    "Рост матерей 178, 165, 165, 173, 168, 155, 160, 164, 178, 175\n",
    "Используя эти данные построить 95% доверительный интервал для разности среднего\n",
    "роста родителей и детей."
   ]
  },
  {
   "cell_type": "code",
   "execution_count": 6,
   "metadata": {},
   "outputs": [
    {
     "data": {
      "text/plain": [
       "'[-6.268418034506846; 10.068418034506857]'"
      ]
     },
     "execution_count": 6,
     "metadata": {},
     "output_type": "execute_result"
    }
   ],
   "source": [
    "daughters = [175, 167, 154, 174, 178, 148, 160, 167, 169, 170]\n",
    "mothers = [178, 165, 165, 173, 168, 155, 160, 164, 178, 175]\n",
    "df = len(daughters) + len(mothers) - 2\n",
    "daughters_mean = np.mean(daughters)\n",
    "mothers_mean = np.mean(mothers)\n",
    "\n",
    "D_daughters = np.var(daughters, ddof=1)\n",
    "D_mothers = np.var(mothers, ddof=1)\n",
    "D_common = (D_daughters + D_mothers)/2\n",
    "\n",
    "S = sqrt((D_common/len(daughters))+(D_common/(len(mothers))))\n",
    "t1 = st.t.ppf(.05/2, df=df)\n",
    "t2 = st.t.ppf(1-(.05/2), df=df)\n",
    "\n",
    "delta = mothers_mean-daughters_mean\n",
    "border1 = delta - abs(t1)*S\n",
    "border2 = delta + abs(t2)*S\n",
    "\n",
    "f\"[{border1}; {border2}]\" # Нет статистически значимых различий\n",
    "\n",
    "\n",
    "\n"
   ]
  }
 ],
 "metadata": {
  "kernelspec": {
   "display_name": "Python 3",
   "language": "python",
   "name": "python3"
  },
  "language_info": {
   "codemirror_mode": {
    "name": "ipython",
    "version": 3
   },
   "file_extension": ".py",
   "mimetype": "text/x-python",
   "name": "python",
   "nbconvert_exporter": "python",
   "pygments_lexer": "ipython3",
   "version": "3.10.10"
  },
  "orig_nbformat": 4
 },
 "nbformat": 4,
 "nbformat_minor": 2
}
