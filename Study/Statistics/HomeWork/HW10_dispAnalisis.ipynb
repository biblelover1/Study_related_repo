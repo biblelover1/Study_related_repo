{
 "cells": [
  {
   "cell_type": "markdown",
   "metadata": {},
   "source": [
    "Провести дисперсионный анализ для определения того, есть ли различия среднего роста среди взрослых футболистов, хоккеистов и штангистов. Даны значения роста в трех группах случайно выбранных спортсменов: Футболисты: 173, 175, 180, 178, 177, 185, 183, 182. Хоккеисты: 177, 179, 180, 188, 177, 172, 171, 184, 180. Штангисты: 172, 173, 169, 177, 166, 180, 178, 177, 172, 166, 170. Данная промежуточная аттестация оценивается по системе \"зачет\" / \"не зачет\". \"Зачет\" ставится, если Слушатель успешно выполнил задание. \"Незачет\" ставится, если Слушатель не выполнил задание. Критерии оценивания: 1 - Слушатель провел дисперсионный анализ для определения того, есть ли различия среднего роста среди взрослых футболистов, хоккеистов и штангистов."
   ]
  },
  {
   "cell_type": "code",
   "execution_count": 17,
   "metadata": {},
   "outputs": [],
   "source": [
    "import numpy as np\n",
    "import scipy.stats as st\n",
    "import pandas as pd\n",
    "from scipy.stats import bartlett\n",
    "from statsmodels.stats.multicomp import pairwise_tukeyhsd"
   ]
  },
  {
   "cell_type": "code",
   "execution_count": 18,
   "metadata": {},
   "outputs": [],
   "source": [
    "footballers = [173, 175, 180, 178, 177, 185, 183, 182]\n",
    "hockey_player = [177, 179, 180, 188, 177, 172, 171, 184, 180]\n",
    "weightlifter = [172, 173, 169, 177, 166, 180, 178, 177, 172, 166, 170]"
   ]
  },
  {
   "cell_type": "markdown",
   "metadata": {},
   "source": []
  },
  {
   "cell_type": "code",
   "execution_count": 19,
   "metadata": {},
   "outputs": [
    {
     "data": {
      "text/plain": [
       "BartlettResult(statistic=0.4640521043406442, pvalue=0.7929254656083131)"
      ]
     },
     "execution_count": 19,
     "metadata": {},
     "output_type": "execute_result"
    }
   ],
   "source": [
    "# Проводим оценку на нормальность распределения\n",
    "st.shapiro(footballers) # norm\n",
    "st.shapiro(hockey_player) # norm\n",
    "st.shapiro(weightlifter) # norm\n",
    "bartlett(footballers, hockey_player, weightlifter) # pvalue=0.7929254656083131 - недостаточно данных для отклонения Н0 о разности дисперсий"
   ]
  },
  {
   "cell_type": "code",
   "execution_count": 20,
   "metadata": {},
   "outputs": [
    {
     "data": {
      "text/plain": [
       "F_onewayResult(statistic=5.500053450812596, pvalue=0.010482206918698693)"
      ]
     },
     "execution_count": 20,
     "metadata": {},
     "output_type": "execute_result"
    }
   ],
   "source": [
    "# Применяем критерий Фишера\n",
    "st.f_oneway(footballers, hockey_player, weightlifter) # pvalue=0.010482206918698693 - принимаем альтернативную гипотезу (существует разница средних по меньшей мере между двумя группами)"
   ]
  },
  {
   "cell_type": "code",
   "execution_count": 47,
   "metadata": {},
   "outputs": [
    {
     "data": {
      "text/plain": [
       "(0.8471274829862304, 0.007418502503470327, 0.017384077963160167)"
      ]
     },
     "execution_count": 47,
     "metadata": {},
     "output_type": "execute_result"
    }
   ],
   "source": [
    "# Оцениваем, между какими группами существуют различия (критерий Тьюки)\n",
    "# df = pd.DataFrame({'height': [173, 175, 180, 178, 177, 185, 183, 182, 177, 179, 180, 188, 177, 172, 171, 184, 180, 172, 173, 169, 177, 166, 180, 178, 177, 172, 166, 170], \n",
    "#                    'sportsmen': np.repeat(['footballers','hockey_player','weightlifter'], repeats=len(weightlifter))})\n",
    "\n",
    "# print(pairwise_tukeyhsd(df['height'], df['sportsmen'], alpha=0.05))\n",
    "\n",
    "# Сравнение футболистов и хоккеистов\n",
    "stat1, p1 = st.ttest_ind(footballers, hockey_player) # p = 0.8471274829862304\n",
    "stat2, p2 = st.ttest_ind(footballers, weightlifter) # p = 0.007418502503470327\n",
    "stat3, p3 = st.ttest_ind(hockey_player, weightlifter) # p = 0.017384077963160167\n",
    "p1, p2, p3\n",
    "\n",
    "# Поправка Холма\n",
    "# q = p(m + i - 1), где m - число проверяемых гипотез, i - номер гипотезы\n",
    "alpha = 0.05\n",
    "m= 3\n",
    "p_array = [p1, p2, p3]\n",
    "p_array_sorted = sorted(p_array)\n",
    "p_array_sorted\n",
    "\n",
    "for k in range(len(p_array_sorted)):\n",
    "    if p_array_sorted[k]*(m + (k+1) - 1) < alpha:\n",
    "        print(f'{k+1}: TRUE, p = {p_array_sorted[k]}')\n",
    "    else:\n",
    "        print(f'{k+1}: FALSE, p = {p_array_sorted[k]}')\n",
    "\n",
    "# Вывод: выявлены статистически значимые различия в росте между футболистами и штангистами\n",
    "\n"
   ]
  }
 ],
 "metadata": {
  "kernelspec": {
   "display_name": "Python 3",
   "language": "python",
   "name": "python3"
  },
  "language_info": {
   "codemirror_mode": {
    "name": "ipython",
    "version": 3
   },
   "file_extension": ".py",
   "mimetype": "text/x-python",
   "name": "python",
   "nbconvert_exporter": "python",
   "pygments_lexer": "ipython3",
   "version": "3.11.5"
  },
  "orig_nbformat": 4
 },
 "nbformat": 4,
 "nbformat_minor": 2
}
