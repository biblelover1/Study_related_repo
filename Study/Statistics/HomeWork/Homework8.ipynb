{
 "cells": [
  {
   "cell_type": "markdown",
   "metadata": {},
   "source": [
    "Задача 1 Даны значения величины заработной платы заемщиков банка (zp) и значения их\n",
    "поведенческого кредитного скоринга (ks):\n",
    "zp = [35, 45, 190, 200, 40, 70, 54, 150, 120, 110],\n",
    "ks = [401, 574, 874, 919, 459, 739, 653, 902, 746, 832].\n",
    "Найдите ковариацию этих двух величин с помощью элементарных действий, а затем с\n",
    "помощью функции cov из numpy\n",
    "Полученные значения должны быть равны.\n",
    "Найдите коэффициент корреляции Пирсона с помощью ковариации и\n",
    "среднеквадратичных отклонений двух признаков,\n",
    "а затем с использованием функций из библиотек numpy и pandas."
   ]
  },
  {
   "cell_type": "code",
   "execution_count": 2,
   "metadata": {},
   "outputs": [],
   "source": [
    "import numpy as np\n",
    "from scipy import stats\n",
    "import math\n",
    "from statistics import covariance"
   ]
  },
  {
   "cell_type": "code",
   "execution_count": 3,
   "metadata": {},
   "outputs": [],
   "source": [
    "zp = np.array([35, 45, 190, 200, 40, 70, 54, 150, 120, 110])\n",
    "ks = [401, 574, 874, 919, 459, 739, 653, 902, 746, 832]"
   ]
  },
  {
   "cell_type": "code",
   "execution_count": 4,
   "metadata": {},
   "outputs": [
    {
     "name": "stdout",
     "output_type": "stream",
     "text": [
      "Correlation is 0.8874900920739162\n",
      "Covariation is 9157.839999999997\n"
     ]
    }
   ],
   "source": [
    "def calc(zp_def, ks_def):\n",
    "    nomin = 0\n",
    "    denomin = 0\n",
    "    sum_square_zp = 0\n",
    "    sum_square_ks = 0\n",
    "    for i in range(len(zp_def)):\n",
    "        res_zp = zp_def[i] - np.mean(zp_def)\n",
    "        res_ks = ks_def[i] - np.mean(ks_def)\n",
    "        nomin += res_zp*res_ks\n",
    "        square_res_zp = pow(res_zp, 2)\n",
    "        sum_square_zp += square_res_zp\n",
    "        square_res_ks = pow(res_ks, 2)\n",
    "        sum_square_ks += square_res_ks\n",
    "        denomin = sum_square_zp*sum_square_ks\n",
    "    return nomin, denomin\n",
    "\n",
    "\n",
    "nominator, denominator = calc(zp, ks)\n",
    "nominator, denominator\n",
    "\n",
    "def cor(nom, den):\n",
    "    res = nom/np.sqrt(den)\n",
    "    print(f\"Correlation is {res}\")\n",
    "    return res\n",
    "\n",
    "\n",
    "def covar(cor, zp, ks):\n",
    "    res = np.mean(zp*ks) - np.mean(zp)* np.mean(ks)\n",
    "    print(f\"Covariation is {res}\")\n",
    "\n",
    "covar(cor(nominator, denominator), zp, ks)"
   ]
  },
  {
   "cell_type": "code",
   "execution_count": 5,
   "metadata": {},
   "outputs": [
    {
     "data": {
      "text/plain": [
       "(array([[1.        , 0.88749009],\n",
       "        [0.88749009, 1.        ]]),\n",
       " array([[ 3494.64,  9157.84],\n",
       "        [ 9157.84, 30468.89]]))"
      ]
     },
     "execution_count": 5,
     "metadata": {},
     "output_type": "execute_result"
    }
   ],
   "source": [
    "cor = np.corrcoef(zp, ks)\n",
    "cov = np.cov(zp, ks, ddof=0)\n",
    "cor, cov\n"
   ]
  },
  {
   "cell_type": "markdown",
   "metadata": {},
   "source": [
    "Задача 2 Измерены значения IQ выборки студентов,\n",
    "обучающихся в местных технических вузах:\n",
    "131, 125, 115, 122, 131, 115, 107, 99, 125, 111.\n",
    "Известно, что в генеральной совокупности IQ распределен нормально.\n",
    "Найдите доверительный интервал для математического ожидания с надежностью 0.95."
   ]
  },
  {
   "cell_type": "code",
   "execution_count": 6,
   "metadata": {},
   "outputs": [
    {
     "data": {
      "text/plain": [
       "(110.9432125583706, 125.25678744162938)"
      ]
     },
     "execution_count": 6,
     "metadata": {},
     "output_type": "execute_result"
    }
   ],
   "source": [
    "iq = [131, 125, 115, 122, 131, 115, 107, 99, 125, 111]\n",
    "a = 0.05\n",
    "t1 = stats.t.ppf(a/2, df = len(iq) - 1)\n",
    "up = np.mean(iq) + abs(t1)*(np.std(iq)/np.sqrt(len(iq)))\n",
    "down = np.mean(iq) - abs(t1)*(np.std(iq)/np.sqrt(len(iq)))\n",
    "down, up"
   ]
  },
  {
   "cell_type": "markdown",
   "metadata": {},
   "source": [
    "Задача 3 Известно, что рост футболистов в сборной распределен нормально\n",
    "с дисперсией генеральной совокупности, равной 25 кв.см. Объем выборки равен 27,\n",
    "среднее выборочное составляет 174.2. Найдите доверительный интервал для\n",
    "математического ожидания с надежностью 0.95."
   ]
  },
  {
   "cell_type": "code",
   "execution_count": 7,
   "metadata": {},
   "outputs": [
    {
     "data": {
      "text/plain": [
       "(172.3140237765397, 176.08597622346028)"
      ]
     },
     "execution_count": 7,
     "metadata": {},
     "output_type": "execute_result"
    }
   ],
   "source": [
    "M = 174.2\n",
    "D = 25\n",
    "n = 27\n",
    "a = 0.05\n",
    "Z = stats.norm.ppf(a/2)\n",
    "heigh = M + Z*(np.sqrt(D/n))\n",
    "low = M - Z*(np.sqrt(D/n))\n",
    "heigh, low\n"
   ]
  }
 ],
 "metadata": {
  "kernelspec": {
   "display_name": "Python 3",
   "language": "python",
   "name": "python3"
  },
  "language_info": {
   "codemirror_mode": {
    "name": "ipython",
    "version": 3
   },
   "file_extension": ".py",
   "mimetype": "text/x-python",
   "name": "python",
   "nbconvert_exporter": "python",
   "pygments_lexer": "ipython3",
   "version": "3.10.10"
  },
  "orig_nbformat": 4
 },
 "nbformat": 4,
 "nbformat_minor": 2
}
