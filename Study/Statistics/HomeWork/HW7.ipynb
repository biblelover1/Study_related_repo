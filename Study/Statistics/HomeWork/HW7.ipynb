{
 "cells": [
  {
   "cell_type": "markdown",
   "metadata": {},
   "source": [
    "Задача 1. Даны две независимые выборки. Не соблюдается условие нормальности\n",
    "x1 380,420, 290\n",
    "y1 140,360,200,900\n",
    "Сделайте вывод по результатам, полученным с помощью функции, имеются ли статистические различия между группами?"
   ]
  },
  {
   "cell_type": "code",
   "execution_count": 2,
   "metadata": {},
   "outputs": [
    {
     "data": {
      "text/plain": [
       "MannwhitneyuResult(statistic=8.0, pvalue=0.6285714285714286)"
      ]
     },
     "execution_count": 2,
     "metadata": {},
     "output_type": "execute_result"
    }
   ],
   "source": [
    "from scipy import stats as st\n",
    "from statsmodels.stats.multicomp import pairwise_tukeyhsd\n",
    "import numpy as np\n",
    "import pandas as pd\n",
    "x1 = 380,420, 290\n",
    "y1 = 140,360,200,900\n",
    "U = st.mannwhitneyu(x1, y1)\n",
    "U # принимаем нулевую гипотезу\n"
   ]
  },
  {
   "cell_type": "markdown",
   "metadata": {},
   "source": [
    "Задача 2. Исследовалось влияние препарата на уровень давления пациентов. Сначала\n",
    "измерялось давление до приема препарата, потом через 10 минут и через 30 минут. Есть\n",
    "ли статистически значимые различия между измерениями давления? В выборках не соблюдается условие нормальности.\n",
    "1е измерение до приема препарата: 150, 160, 165, 145, 155\n",
    "2е измерение через 10 минут: 140, 155, 150, 130, 135\n",
    "3е измерение через 30 минут: 130, 130, 120, 130, 125"
   ]
  },
  {
   "cell_type": "code",
   "execution_count": 3,
   "metadata": {},
   "outputs": [
    {
     "data": {
      "text/plain": [
       "FriedmanchisquareResult(statistic=9.578947368421062, pvalue=0.00831683351100441)"
      ]
     },
     "execution_count": 3,
     "metadata": {},
     "output_type": "execute_result"
    }
   ],
   "source": [
    "measurement1 = [150, 160, 165, 145, 155]\n",
    "measurement2 = [140, 155, 150, 130, 135]\n",
    "measurement3 = [130, 130, 120, 130, 125]\n",
    "\n",
    "F = st.friedmanchisquare(measurement1, measurement2, measurement3)\n",
    "F # Принимаем альтернативную гипотезу"
   ]
  },
  {
   "cell_type": "markdown",
   "metadata": {},
   "source": [
    "Задача 3. Сравните 1 и 2е измерения, предполагая, что 3го измерения через 30 минут не было. Есть\n",
    "ли статистически значимые различия между измерениями давления?"
   ]
  },
  {
   "cell_type": "code",
   "execution_count": 4,
   "metadata": {},
   "outputs": [
    {
     "data": {
      "text/plain": [
       "WilcoxonResult(statistic=0.0, pvalue=0.0625)"
      ]
     },
     "execution_count": 4,
     "metadata": {},
     "output_type": "execute_result"
    }
   ],
   "source": [
    "measurement1 = [150, 160, 165, 145, 155]\n",
    "measurement2 = [140, 155, 150, 130, 135]\n",
    "W = st.wilcoxon(measurement1, measurement2)\n",
    "W # Принимаем нулевую гипотезу"
   ]
  },
  {
   "cell_type": "markdown",
   "metadata": {},
   "source": [
    "Задача 4. Даны 3 группы учеников плавания. Не соблюдается условие нормальности.\n",
    "В 1 группе время на дистанцию 50 м составляют:\n",
    "56, 60, 62, 55, 71, 67, 59, 58, 64, 67\n",
    "Вторая группа : 57, 58, 69, 48, 72, 70, 68, 71, 50, 53\n",
    "Третья группа: 57, 67, 49, 48, 47, 55, 66, 51, 54\n",
    "Есть\n",
    "ли статистически значимые различия между группами?\n"
   ]
  },
  {
   "cell_type": "code",
   "execution_count": 5,
   "metadata": {},
   "outputs": [
    {
     "data": {
      "text/plain": [
       "KruskalResult(statistic=5.465564058257224, pvalue=0.06503809985904942)"
      ]
     },
     "execution_count": 5,
     "metadata": {},
     "output_type": "execute_result"
    }
   ],
   "source": [
    "group1 = [56, 60, 62, 55, 71, 67, 59, 58, 64, 67]\n",
    "group2 = [57, 58, 69, 48, 72, 70, 68, 71, 50, 53]\n",
    "group3 = [57, 67, 49, 48, 47, 55, 66, 51, 54]\n",
    "H = st.kruskal(group1, group2, group3)\n",
    "H # Принимаем нулевую гипотезу\n"
   ]
  },
  {
   "cell_type": "markdown",
   "metadata": {},
   "source": [
    "Задача 5. Заявляется, что партия изготавливается со средним арифметическим 2,5 см. Проверить\n",
    "данную гипотезу, если известно, что размеры изделий подчинены нормальному закону\n",
    "распределения. Объем выборки 10, уровень статистической значимости 5%\n",
    "2.51, 2.35, 2.74, 2.56, 2.40, 2.36, 2.65, 2.7, 2.67, 2.34"
   ]
  },
  {
   "cell_type": "code",
   "execution_count": 6,
   "metadata": {},
   "outputs": [
    {
     "name": "stdout",
     "output_type": "stream",
     "text": [
      "p > 0.05, accept H0\n"
     ]
    }
   ],
   "source": [
    "from math import sqrt\n",
    "sample = [2.51, 2.35, 2.74, 2.56, 2.40, 2.36, 2.65, 2.7, 2.67, 2.34]\n",
    "mean = np.mean(sample)\n",
    "mean_gen = 2.5\n",
    "a = 0.05\n",
    "D = np.var(sample, ddof=1)\n",
    "df = len(sample) - 1\n",
    "t_e = (mean - mean_gen)/sqrt(D/len(sample))\n",
    "t_e\n",
    "# t критическе при df = 9: 2.2622\n",
    "t_crit = 2.2622\n",
    "if t_e < abs(t_crit):\n",
    "    print(f'p > 0.05, accept H0')\n",
    "else:\n",
    "    print(f'p < 0.05, accept H1')\n"
   ]
  },
  {
   "cell_type": "markdown",
   "metadata": {},
   "source": [
    "Вариант с помощью функции"
   ]
  },
  {
   "cell_type": "code",
   "execution_count": 7,
   "metadata": {},
   "outputs": [
    {
     "data": {
      "text/plain": [
       "0.2935719996970314"
      ]
     },
     "execution_count": 7,
     "metadata": {},
     "output_type": "execute_result"
    }
   ],
   "source": [
    "t1 = st.t.ppf(.05/2, df = 9)\n",
    "p = 1 - st.t.cdf(t_e, df = 9)\n",
    "p\n"
   ]
  },
  {
   "cell_type": "code",
   "execution_count": 8,
   "metadata": {},
   "outputs": [
    {
     "name": "stdout",
     "output_type": "stream",
     "text": [
      "   Multiple Comparison of Means - Tukey HSD, FWER=0.05   \n",
      "=========================================================\n",
      "  group1    group2  meandiff p-adj   lower  upper  reject\n",
      "---------------------------------------------------------\n",
      " DMK_14_w DMK_14_wo     -1.0 0.9967  -4.381  2.381  False\n",
      " DMK_14_w  DMK_21_w     -1.4 0.9664 -4.9313 2.1313  False\n",
      " DMK_14_w DMK_21_wo   0.3333    1.0 -3.0477 3.7143  False\n",
      " DMK_14_w   DMK_7_w     -0.6    1.0 -4.1313 2.9313  False\n",
      " DMK_14_w  DMK_7_wo     -1.5 0.9283  -4.881  1.881  False\n",
      " DMK_14_w     GE_14     -2.2 0.6027 -5.7313 1.3313  False\n",
      " DMK_14_w     GE_21     -1.8 0.8385 -5.3313 1.7313  False\n",
      " DMK_14_w      GE_7     -1.0 0.9977 -4.5313 2.5313  False\n",
      " DMK_14_w     GK_14     -1.0 0.9977 -4.5313 2.5313  False\n",
      " DMK_14_w     GK_21     -0.2    1.0 -3.7313 3.3313  False\n",
      " DMK_14_w      GK_7     -1.0 0.9977 -4.5313 2.5313  False\n",
      "DMK_14_wo  DMK_21_w     -0.4    1.0  -3.781  2.981  False\n",
      "DMK_14_wo DMK_21_wo   1.3333 0.9548 -1.8903  4.557  False\n",
      "DMK_14_wo   DMK_7_w      0.4    1.0  -2.981  3.781  False\n",
      "DMK_14_wo  DMK_7_wo     -0.5    1.0 -3.7237 2.7237  False\n",
      "DMK_14_wo     GE_14     -1.2 0.9852  -4.581  2.181  False\n",
      "DMK_14_wo     GE_21     -0.8 0.9996  -4.181  2.581  False\n",
      "DMK_14_wo      GE_7      0.0    1.0  -3.381  3.381  False\n",
      "DMK_14_wo     GK_14      0.0    1.0  -3.381  3.381  False\n",
      "DMK_14_wo     GK_21      0.8 0.9996  -2.581  4.181  False\n",
      "DMK_14_wo      GK_7      0.0    1.0  -3.381  3.381  False\n",
      " DMK_21_w DMK_21_wo   1.7333 0.8335 -1.6477 5.1143  False\n",
      " DMK_21_w   DMK_7_w      0.8 0.9997 -2.7313 4.3313  False\n",
      " DMK_21_w  DMK_7_wo     -0.1    1.0  -3.481  3.281  False\n",
      " DMK_21_w     GE_14     -0.8 0.9997 -4.3313 2.7313  False\n",
      " DMK_21_w     GE_21     -0.4    1.0 -3.9313 3.1313  False\n",
      " DMK_21_w      GE_7      0.4    1.0 -3.1313 3.9313  False\n",
      " DMK_21_w     GK_14      0.4    1.0 -3.1313 3.9313  False\n",
      " DMK_21_w     GK_21      1.2 0.9895 -2.3313 4.7313  False\n",
      " DMK_21_w      GK_7      0.4    1.0 -3.1313 3.9313  False\n",
      "DMK_21_wo   DMK_7_w  -0.9333 0.9982 -4.3143 2.4477  False\n",
      "DMK_21_wo  DMK_7_wo  -1.8333 0.7248  -5.057 1.3903  False\n",
      "DMK_21_wo     GE_14  -2.5333 0.3256 -5.9143 0.8477  False\n",
      "DMK_21_wo     GE_21  -2.1333 0.5841 -5.5143 1.2477  False\n",
      "DMK_21_wo      GE_7  -1.3333 0.9676 -4.7143 2.0477  False\n",
      "DMK_21_wo     GK_14  -1.3333 0.9676 -4.7143 2.0477  False\n",
      "DMK_21_wo     GK_21  -0.5333    1.0 -3.9143 2.8477  False\n",
      "DMK_21_wo      GK_7  -1.3333 0.9676 -4.7143 2.0477  False\n",
      "  DMK_7_w  DMK_7_wo     -0.9 0.9987  -4.281  2.481  False\n",
      "  DMK_7_w     GE_14     -1.6 0.9181 -5.1313 1.9313  False\n",
      "  DMK_7_w     GE_21     -1.2 0.9895 -4.7313 2.3313  False\n",
      "  DMK_7_w      GE_7     -0.4    1.0 -3.9313 3.1313  False\n",
      "  DMK_7_w     GK_14     -0.4    1.0 -3.9313 3.1313  False\n",
      "  DMK_7_w     GK_21      0.4    1.0 -3.1313 3.9313  False\n",
      "  DMK_7_w      GK_7     -0.4    1.0 -3.9313 3.1313  False\n",
      " DMK_7_wo     GE_14     -0.7 0.9999  -4.081  2.681  False\n",
      " DMK_7_wo     GE_21     -0.3    1.0  -3.681  3.081  False\n",
      " DMK_7_wo      GE_7      0.5    1.0  -2.881  3.881  False\n",
      " DMK_7_wo     GK_14      0.5    1.0  -2.881  3.881  False\n",
      " DMK_7_wo     GK_21      1.3  0.973  -2.081  4.681  False\n",
      " DMK_7_wo      GK_7      0.5    1.0  -2.881  3.881  False\n",
      "    GE_14     GE_21      0.4    1.0 -3.1313 3.9313  False\n",
      "    GE_14      GE_7      1.2 0.9895 -2.3313 4.7313  False\n",
      "    GE_14     GK_14      1.2 0.9895 -2.3313 4.7313  False\n",
      "    GE_14     GK_21      2.0 0.7298 -1.5313 5.5313  False\n",
      "    GE_14      GK_7      1.2 0.9895 -2.3313 4.7313  False\n",
      "    GE_21      GE_7      0.8 0.9997 -2.7313 4.3313  False\n",
      "    GE_21     GK_14      0.8 0.9997 -2.7313 4.3313  False\n",
      "    GE_21     GK_21      1.6 0.9181 -1.9313 5.1313  False\n",
      "    GE_21      GK_7      0.8 0.9997 -2.7313 4.3313  False\n",
      "     GE_7     GK_14      0.0    1.0 -3.5313 3.5313  False\n",
      "     GE_7     GK_21      0.8 0.9997 -2.7313 4.3313  False\n",
      "     GE_7      GK_7      0.0    1.0 -3.5313 3.5313  False\n",
      "    GK_14     GK_21      0.8 0.9997 -2.7313 4.3313  False\n",
      "    GK_14      GK_7      0.0    1.0 -3.5313 3.5313  False\n",
      "    GK_21      GK_7     -0.8 0.9997 -4.3313 2.7313  False\n",
      "---------------------------------------------------------\n"
     ]
    }
   ],
   "source": [
    "DMK_7_wo = [25, 23, 24, 25, 25, 25]\n",
    "DMK_14_wo = [25, 25, 25, 25, 25, 25]\n",
    "DMK_21_wo = [27, 25, 23, 30, 30, 23]\n",
    "DMK_7_w = [23, 26, 25, 25, 28]\n",
    "DMK_14_w = [25, 25, 30, 25, 25]\n",
    "DMK_21_w = [27, 23, 25, 23, 25]\n",
    "GK_7 = [25, 26, 25, 24, 25]\n",
    "GK_14 = [24, 25, 27, 24, 25]\n",
    "GK_21 = [24, 25, 25, 25, 30]\n",
    "GE_7 = [25, 25, 25, 25, 25]\n",
    "GE_14 = [23, 25, 23, 24, 24]\n",
    "GE_21 = [25, 24, 24, 23, 25]\n",
    "\n",
    "# Обновленные массивы данных\n",
    "scores = DMK_7_wo + DMK_14_wo + DMK_21_wo + DMK_7_w + DMK_14_w + DMK_21_w + GK_7 + GK_14 + GK_21 + GE_7 + GE_14 + GE_21\n",
    "\n",
    "# Обновленный массив групп\n",
    "groups = np.repeat(['DMK_7_wo', 'DMK_14_wo', 'DMK_21_wo', 'DMK_7_w', 'DMK_14_w', 'DMK_21_w', 'GK_7', 'GK_14', 'GK_21', 'GE_7', 'GE_14', 'GE_21'], repeats=[len(DMK_7_wo), len(DMK_14_wo), len(DMK_21_wo), len(DMK_7_w), len(DMK_14_w), len(DMK_21_w), len(GK_7), len(GK_14), len(GK_21), len(GE_7), len(GE_14), len(GE_21)])\n",
    "\n",
    "# Проведение теста Тьюки\n",
    "tukey_results = pairwise_tukeyhsd(scores, groups)\n",
    "\n",
    "# Вывод результатов\n",
    "print(tukey_results)"
   ]
  },
  {
   "cell_type": "code",
   "execution_count": null,
   "metadata": {},
   "outputs": [],
   "source": []
  }
 ],
 "metadata": {
  "kernelspec": {
   "display_name": ".venv",
   "language": "python",
   "name": "python3"
  },
  "language_info": {
   "codemirror_mode": {
    "name": "ipython",
    "version": 3
   },
   "file_extension": ".py",
   "mimetype": "text/x-python",
   "name": "python",
   "nbconvert_exporter": "python",
   "pygments_lexer": "ipython3",
   "version": "3.11.5"
  },
  "orig_nbformat": 4
 },
 "nbformat": 4,
 "nbformat_minor": 2
}
