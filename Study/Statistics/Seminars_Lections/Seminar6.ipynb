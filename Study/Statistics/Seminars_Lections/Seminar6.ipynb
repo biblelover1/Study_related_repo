{
 "cells": [
  {
   "cell_type": "markdown",
   "metadata": {},
   "source": [
    "# Доверитльный интервал разницы\n",
    "## Доверительный интервал для разницы: дельта +- t_crit * Sдельта, где\n",
    "## Sдельта = sqrt(D/n1 + d/n2), гле D = среднее сумм дисперсий, при условии, что дисперсии не смещенные\n",
    "\n",
    "# Доверительный интеервал для разницы долей: классическая формула, однако для Z критерия используется поправка Йейтца на непрерывность:\n",
    "![Формула](.\\pictures\\Йейтц.jpg)"
   ]
  },
  {
   "cell_type": "code",
   "execution_count": null,
   "metadata": {},
   "outputs": [],
   "source": [
    "from math import sqrt \n",
    "n1 = 21\n",
    "n2 = 21\n",
    "M1 = 1.8\n",
    "M2 = 2.3\n",
    "std1= 0.4\n",
    "std2= 0.6\n",
    "t = (M1-M2)/sqrt((std1/n1)+(std2/n2))"
   ]
  }
 ],
 "metadata": {
  "kernelspec": {
   "display_name": "Python 3",
   "language": "python",
   "name": "python3"
  },
  "language_info": {
   "name": "python",
   "version": "3.10.10"
  },
  "orig_nbformat": 4
 },
 "nbformat": 4,
 "nbformat_minor": 2
}
