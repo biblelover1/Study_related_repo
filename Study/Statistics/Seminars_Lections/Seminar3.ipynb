{
 "cells": [
  {
   "cell_type": "code",
   "execution_count": 1,
   "metadata": {},
   "outputs": [],
   "source": [
    "import pandas as pd\n",
    "import numpy as np\n",
    "from statistics import *"
   ]
  },
  {
   "cell_type": "code",
   "execution_count": 2,
   "metadata": {},
   "outputs": [
    {
     "name": "stdout",
     "output_type": "stream",
     "text": [
      "903\n",
      "90.3\n"
     ]
    }
   ],
   "source": [
    "x = [77, 79, 67, 95, 87, 91, 98, 100, 104, 105]\n",
    "sum = 0\n",
    "for i in range(len(x)):\n",
    "    sum += x[i]\n",
    "print(sum)\n",
    "mean_value = sum/len(x)\n",
    "print(mean_value) # 1 задание\n",
    "\n",
    "\n",
    "    "
   ]
  },
  {
   "cell_type": "code",
   "execution_count": 3,
   "metadata": {},
   "outputs": [
    {
     "data": {
      "text/plain": [
       "93"
      ]
     },
     "execution_count": 3,
     "metadata": {},
     "output_type": "execute_result"
    }
   ],
   "source": [
    "def my_median(sample):\n",
    "    n = len(sample)\n",
    "    index = n // 2\n",
    "    if n % 2:\n",
    "        return sorted(sample)[index]\n",
    "    a = sorted(sample)\n",
    "    return int((a[index] + a[index-1])/2)\n",
    "    \n",
    "\n",
    "b = my_median(x)\n",
    "b"
   ]
  },
  {
   "cell_type": "code",
   "execution_count": 4,
   "metadata": {},
   "outputs": [
    {
     "data": {
      "text/plain": [
       "79"
      ]
     },
     "execution_count": 4,
     "metadata": {},
     "output_type": "execute_result"
    }
   ],
   "source": [
    "def my_quantil(sample, n):\n",
    "    sorted_list = sorted(sample)\n",
    "    quant = (len(sample))*n/100\n",
    "    if quant == int(quant):\n",
    "        index = quant\n",
    "        return (sorted_list[index-1])\n",
    "    return(sorted_list[round(quant)])  \n",
    "my_quantil(x, 25)      "
   ]
  }
 ],
 "metadata": {
  "kernelspec": {
   "display_name": "Python 3",
   "language": "python",
   "name": "python3"
  },
  "language_info": {
   "codemirror_mode": {
    "name": "ipython",
    "version": 3
   },
   "file_extension": ".py",
   "mimetype": "text/x-python",
   "name": "python",
   "nbconvert_exporter": "python",
   "pygments_lexer": "ipython3",
   "version": "3.11.5"
  },
  "orig_nbformat": 4
 },
 "nbformat": 4,
 "nbformat_minor": 2
}
