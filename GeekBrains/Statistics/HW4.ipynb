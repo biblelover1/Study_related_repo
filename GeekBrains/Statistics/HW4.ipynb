{
 "cells": [
  {
   "cell_type": "markdown",
   "metadata": {},
   "source": [
    "Случайная непрерывная величина A имеет равномерное распределение на промежутке (200, 800]. Найдите ее среднее значение и дисперсию.\n"
   ]
  },
  {
   "cell_type": "code",
   "execution_count": 5,
   "metadata": {},
   "outputs": [
    {
     "data": {
      "text/plain": [
       "'Среднее значение: 500.0, дисперсия: 30000.0'"
      ]
     },
     "execution_count": 5,
     "metadata": {},
     "output_type": "execute_result"
    }
   ],
   "source": [
    "from scipy import stats\n",
    "from math import *\n",
    "a = 200\n",
    "b = 800\n",
    "M = (a + b)/2\n",
    "D = pow((b-a), 2)/12\n",
    "f'Среднее значение: {M}, дисперсия: {D}'\n"
   ]
  },
  {
   "cell_type": "markdown",
   "metadata": {},
   "source": [
    "О случайной непрерывной равномерно распределенной величине B известно, что ее дисперсия равна 0.2. Можно ли найти правую границу величины B и ее среднее значение зная, что левая граница равна 0.5? Если да, найдите ее.\n"
   ]
  },
  {
   "cell_type": "code",
   "execution_count": 23,
   "metadata": {},
   "outputs": [
    {
     "data": {
      "text/plain": [
       "'правая граница: 2.4798648586948744 среднее: 1.4899324293474372'"
      ]
     },
     "execution_count": 23,
     "metadata": {},
     "output_type": "execute_result"
    }
   ],
   "source": [
    "D = 0.2\n",
    "a = 0.5\n",
    "# (b-a)^2 = 12*D\n",
    "# b^2 - 2ab + a^2 = 2,4\n",
    "# b^2 - 0,4b - 2,15 = 0\n",
    "# discr = 0,4^2 - 4*(-2,15)\n",
    "# b1 = 2 - sqrt(discr)/2\n",
    "# b2 = 2 + sqrt(discr)/2\n",
    "discr = 0.4**2 - 4*(-2.15)\n",
    "b1 = (2 - sqrt(discr))/2\n",
    "b2 = (2 + sqrt(discr))/2\n",
    "# Т.к. левая граница = 0,5 => правая граница b>0,5 \n",
    "f\"правая граница: {b2} среднее: {(a+b2)/2}\""
   ]
  },
  {
   "cell_type": "markdown",
   "metadata": {},
   "source": [
    "Непрерывная случайная величина X распределена нормально и задана плотностью распределения f(x) = (1 / (4 * sqrt(2pi))) * exp((-(x+2)**2) / 32)\n",
    "Найдите:\n",
    "а). M(X)\n",
    "б). D(X)\n",
    "в). std(X) (среднее квадратичное отклонение)"
   ]
  },
  {
   "cell_type": "code",
   "execution_count": 25,
   "metadata": {},
   "outputs": [
    {
     "data": {
      "text/plain": [
       "'std: 4, M: -2, D: 16.0'"
      ]
     },
     "execution_count": 25,
     "metadata": {},
     "output_type": "execute_result"
    }
   ],
   "source": [
    "std = 4\n",
    "D = pow(std, 2)\n",
    "M = -2\n",
    "f\"std: {std}, M: {M}, D: {D}\""
   ]
  },
  {
   "cell_type": "markdown",
   "metadata": {},
   "source": [
    "4. Рост взрослого населения города X имеет нормальное распределение.\n",
    "Причем, средний рост равен 174 см, а среднее квадратичное отклонение равно 8 см.\n",
    "Какова вероятность того, что случайным образом выбранный взрослый человек имеет рост:\n",
    "а). больше 182 см\n",
    "б). больше 190 см\n",
    "в). от 166 см до 190 см\n",
    "г). от 166 см до 182 см\n",
    "д). от 158 см до 190 см\n",
    "е). не выше 150 см или не ниже 190 см\n",
    "ё). не выше 150 см или не ниже 198 см\n",
    "ж). ниже 166 см."
   ]
  },
  {
   "cell_type": "code",
   "execution_count": 12,
   "metadata": {},
   "outputs": [
    {
     "data": {
      "text/plain": [
       "0.06680720126885809"
      ]
     },
     "execution_count": 12,
     "metadata": {},
     "output_type": "execute_result"
    }
   ],
   "source": [
    "from scipy import stats\n",
    "\n",
    "parametrs = {'height': 182,\n",
    "             'mean': 170,\n",
    "             'more_less': 'больше',\n",
    "             'std': 8,\n",
    "             'left_border': 166}\n",
    "\n",
    "\n",
    "def standartization(**params):\n",
    "    res = 0\n",
    "    graph_part = params['more_less']\n",
    "    if graph_part == 'больше':\n",
    "        res = 1 - \\\n",
    "            (stats.norm.cdf(params['height'],\n",
    "             loc=params['mean'], scale=params['std']))\n",
    "        return res\n",
    "    elif graph_part == 'меньше':\n",
    "        res = (stats.norm.cdf(\n",
    "            params['height'], loc=params['mean'], scale=params['std']))\n",
    "        return res\n",
    "    elif graph_part == 'между':\n",
    "        res = (stats.norm.cdf(params['height'], loc=params['mean'], scale=params['std'])) - (\n",
    "            stats.norm.cdf(params['height'], loc=params['mean'], scale=params['left_border']))\n",
    "        return res\n",
    "    else:\n",
    "        print(\"Error\")\n",
    "\n",
    "\n",
    "comm_res = standartization(**parametrs)\n",
    "comm_res\n"
   ]
  }
 ],
 "metadata": {
  "kernelspec": {
   "display_name": "Python 3",
   "language": "python",
   "name": "python3"
  },
  "language_info": {
   "codemirror_mode": {
    "name": "ipython",
    "version": 3
   },
   "file_extension": ".py",
   "mimetype": "text/x-python",
   "name": "python",
   "nbconvert_exporter": "python",
   "pygments_lexer": "ipython3",
   "version": "3.10.10"
  },
  "orig_nbformat": 4
 },
 "nbformat": 4,
 "nbformat_minor": 2
}
