{
 "cells": [
  {
   "cell_type": "markdown",
   "metadata": {},
   "source": [
    "Задача 1. Когда используется критерий Стьюдента, а когда Z –критерий?\n",
    "Ответ: Стьюдент - не известна дисперсия(std) в генеральной совокупности, размер выборки менее 30 наблюдений\n",
    "Z - известна дисперсия генеральной совокупности"
   ]
  },
  {
   "cell_type": "markdown",
   "metadata": {},
   "source": [
    "Задача 2. Проведите тест гипотезы. Утверждается, что шарики для подшипников, изготовленные\n",
    "автоматическим станком, имеют средний диаметр 17 мм.\n",
    "Используя односторонний критерий с α=0,05, проверить эту гипотезу, если в выборке из\n",
    "n=100 шариков средний диаметр\n",
    "оказался равным 17.5 мм, а дисперсия генеральной совокупности известна и равна 4 кв. мм."
   ]
  },
  {
   "cell_type": "code",
   "execution_count": 5,
   "metadata": {},
   "outputs": [
    {
     "data": {
      "text/plain": [
       "0.012399999999999967"
      ]
     },
     "execution_count": 5,
     "metadata": {},
     "output_type": "execute_result"
    }
   ],
   "source": [
    "from math import sqrt, pow\n",
    "# H0 = m1=m2\n",
    "# H1 = m2 > m1\n",
    "x1 = 17\n",
    "x2 = 17.5\n",
    "a = 0.05\n",
    "n = 100\n",
    "D = 4\n",
    "Z = (x1- x2)/(sqrt(D/n))\n",
    "Z\n",
    "# Z Расположена за пределами 2,5 сигм (пределе 95% всех знначений) => p_value = 1 - Z = 1 - ,98760\n",
    "p_value = 1 - .9876\n",
    "p_value"
   ]
  },
  {
   "cell_type": "markdown",
   "metadata": {},
   "source": [
    "Задача 3. Проведите тест гипотезы. Продавец утверждает, что средний вес пачки печенья\n",
    "составляет 200 г.\n",
    "Из партии извлечена выборка из 10 пачек. Вес каждой пачки составляет:\n",
    "202, 203, 199, 197, 195, 201, 200, 204, 194, 190.\n",
    "Известно, что их веса распределены нормально.\n",
    "Верно ли утверждение продавца, если учитывать, что уровень значимости 1%? (Провести двусторонний тест.)"
   ]
  },
  {
   "cell_type": "code",
   "execution_count": 17,
   "metadata": {},
   "outputs": [
    {
     "name": "stdout",
     "output_type": "stream",
     "text": [
      "Принимаем нулевую гипотезу\n"
     ]
    }
   ],
   "source": [
    "# H0 = m1 = m2\n",
    "# H! = m1 != m2\n",
    "from scipy import stats\n",
    "import numpy as np\n",
    "from math import *\n",
    "sample = [202, 203, 199, 197, 195, 201, 200, 204, 194, 190]\n",
    "ddof = len(sample) - 1\n",
    "a = 0.01\n",
    "M0 = 200\n",
    "# t критическое при ddof = 9 равно 3,2498\n",
    "t_crit = 3.2498\n",
    "\n",
    "def mean(ls):\n",
    "    sum = 0\n",
    "    for i in range(len(ls)):\n",
    "        sum += ls[i]\n",
    "    return sum/len(ls)\n",
    "\n",
    "def std(ls, mean):\n",
    "    res = 0\n",
    "    sum = 0\n",
    "    for i in range(len(ls)):\n",
    "        res = pow(ls[i]-mean, 2)\n",
    "        sum += res\n",
    "    return sqrt(sum/(len(ls)-1))    \n",
    "\n",
    "\n",
    "mean_sample = mean(sample)\n",
    "\n",
    "deviation = std(sample, mean_sample)\n",
    "\n",
    "def hipothesis(M1, M0, std, ls):\n",
    "    t = (M1 - M0)/(std/sqrt(len(ls)))\n",
    "    return t\n",
    "\n",
    "t_test = hipothesis(mean_sample, M0, deviation, sample)\n",
    "\n",
    "def comparison(res, t):\n",
    "    if abs(res) > t:\n",
    "        print(\"Принимаем альтернативную гипотезу\")\n",
    "    else:\n",
    "        print(\"Принимаем нулевую гипотезу\")\n",
    "\n",
    "comparison(t_test, t_crit)\n",
    "\n",
    "\n",
    "\n",
    "\n",
    "\n",
    "\n"
   ]
  },
  {
   "cell_type": "markdown",
   "metadata": {},
   "source": [
    "Задача 4. Есть ли статистически значимые различия в среднем росте матерей и\n",
    "дочерей?\n",
    "Рост матерей 172, 177, 158, 170, 178,175, 164, 160, 169, 165\n",
    "Рост взрослых дочерей: 173, 175, 162, 174, 175, 168, 155, 170, 160, 163"
   ]
  },
  {
   "cell_type": "code",
   "execution_count": 22,
   "metadata": {},
   "outputs": [
    {
     "name": "stdout",
     "output_type": "stream",
     "text": [
      "Get H0\n"
     ]
    }
   ],
   "source": [
    "import numpy as np\n",
    "mothers = [172, 177, 158, 170, 178,175, 164, 160, 169, 165]\n",
    "sisters = [173, 175, 162, 174, 175, 168, 155, 170, 160, 163]\n",
    "a = 0.05\n",
    "t_crit = 2.1\n",
    "mother_mean = np.mean(mothers)\n",
    "sisters_mean = np.mean(sisters)\n",
    "disp_mother = np.var(mothers, ddof=1)\n",
    "disp_sister = np.var(sisters, ddof=1)\n",
    "t_found = (mother_mean - sisters_mean)/(sqrt((disp_mother/len(mothers))+(disp_sister/len(sisters))))\n",
    "t_found\n",
    "# t критическое при ddof = 18 равно 2,1 при a = 0.05\n",
    "if abs(t_found) < t_crit:\n",
    "    print(\"Get H0\")\n",
    "else:\n",
    "    print(\"'Get H1\")\n",
    "\n"
   ]
  },
  {
   "cell_type": "code",
   "execution_count": 21,
   "metadata": {},
   "outputs": [
    {
     "data": {
      "text/plain": [
       "TtestResult(statistic=0.4138411497680053, pvalue=0.68387966499013, df=18.0)"
      ]
     },
     "execution_count": 21,
     "metadata": {},
     "output_type": "execute_result"
    }
   ],
   "source": [
    "import numpy as np\n",
    "from scipy import stats\n",
    "\n",
    "stats.ttest_ind(mothers, sisters)"
   ]
  }
 ],
 "metadata": {
  "kernelspec": {
   "display_name": "Python 3",
   "language": "python",
   "name": "python3"
  },
  "language_info": {
   "codemirror_mode": {
    "name": "ipython",
    "version": 3
   },
   "file_extension": ".py",
   "mimetype": "text/x-python",
   "name": "python",
   "nbconvert_exporter": "python",
   "pygments_lexer": "ipython3",
   "version": "3.10.10"
  },
  "orig_nbformat": 4
 },
 "nbformat": 4,
 "nbformat_minor": 2
}
