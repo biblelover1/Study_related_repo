{
 "cells": [
  {
   "cell_type": "markdown",
   "metadata": {},
   "source": [
    "Задача 1. Даны две независимые выборки. Не соблюдается условие нормальности\n",
    "x1 380,420, 290\n",
    "y1 140,360,200,900\n",
    "Сделайте вывод по результатам, полученным с помощью функции, имеются ли статистические различия между группами?"
   ]
  },
  {
   "cell_type": "code",
   "execution_count": 2,
   "metadata": {},
   "outputs": [
    {
     "data": {
      "text/plain": [
       "MannwhitneyuResult(statistic=8.0, pvalue=0.6285714285714286)"
      ]
     },
     "execution_count": 2,
     "metadata": {},
     "output_type": "execute_result"
    }
   ],
   "source": [
    "from scipy import stats as st\n",
    "import numpy as np\n",
    "x1 = 380,420, 290\n",
    "y1 = 140,360,200,900\n",
    "U = st.mannwhitneyu(x1, y1)\n",
    "U # принимаем нулевую гипотезу\n"
   ]
  },
  {
   "cell_type": "markdown",
   "metadata": {},
   "source": [
    "Задача 2. Исследовалось влияние препарата на уровень давления пациентов. Сначала\n",
    "измерялось давление до приема препарата, потом через 10 минут и через 30 минут. Есть\n",
    "ли статистически значимые различия между измерениями давления? В выборках не соблюдается условие нормальности.\n",
    "1е измерение до приема препарата: 150, 160, 165, 145, 155\n",
    "2е измерение через 10 минут: 140, 155, 150, 130, 135\n",
    "3е измерение через 30 минут: 130, 130, 120, 130, 125"
   ]
  },
  {
   "cell_type": "code",
   "execution_count": 3,
   "metadata": {},
   "outputs": [
    {
     "data": {
      "text/plain": [
       "FriedmanchisquareResult(statistic=9.578947368421062, pvalue=0.00831683351100441)"
      ]
     },
     "execution_count": 3,
     "metadata": {},
     "output_type": "execute_result"
    }
   ],
   "source": [
    "measurement1 = [150, 160, 165, 145, 155]\n",
    "measurement2 = [140, 155, 150, 130, 135]\n",
    "measurement3 = [130, 130, 120, 130, 125]\n",
    "\n",
    "F = st.friedmanchisquare(measurement1, measurement2, measurement3)\n",
    "F # Принимаем альтернативную гипотезу"
   ]
  },
  {
   "cell_type": "markdown",
   "metadata": {},
   "source": [
    "Задача 3. Сравните 1 и 2е измерения, предполагая, что 3го измерения через 30 минут не было. Есть\n",
    "ли статистически значимые различия между измерениями давления?"
   ]
  },
  {
   "cell_type": "code",
   "execution_count": 4,
   "metadata": {},
   "outputs": [
    {
     "data": {
      "text/plain": [
       "WilcoxonResult(statistic=0.0, pvalue=0.0625)"
      ]
     },
     "execution_count": 4,
     "metadata": {},
     "output_type": "execute_result"
    }
   ],
   "source": [
    "measurement1 = [150, 160, 165, 145, 155]\n",
    "measurement2 = [140, 155, 150, 130, 135]\n",
    "W = st.wilcoxon(measurement1, measurement2)\n",
    "W # Принимаем нулевую гипотезу"
   ]
  },
  {
   "cell_type": "markdown",
   "metadata": {},
   "source": [
    "Задача 4. Даны 3 группы учеников плавания. Не соблюдается условие нормальности.\n",
    "В 1 группе время на дистанцию 50 м составляют:\n",
    "56, 60, 62, 55, 71, 67, 59, 58, 64, 67\n",
    "Вторая группа : 57, 58, 69, 48, 72, 70, 68, 71, 50, 53\n",
    "Третья группа: 57, 67, 49, 48, 47, 55, 66, 51, 54\n",
    "Есть\n",
    "ли статистически значимые различия между группами?\n"
   ]
  },
  {
   "cell_type": "code",
   "execution_count": 5,
   "metadata": {},
   "outputs": [
    {
     "data": {
      "text/plain": [
       "KruskalResult(statistic=5.465564058257224, pvalue=0.06503809985904942)"
      ]
     },
     "execution_count": 5,
     "metadata": {},
     "output_type": "execute_result"
    }
   ],
   "source": [
    "group1 = [56, 60, 62, 55, 71, 67, 59, 58, 64, 67]\n",
    "group2 = [57, 58, 69, 48, 72, 70, 68, 71, 50, 53]\n",
    "group3 = [57, 67, 49, 48, 47, 55, 66, 51, 54]\n",
    "H = st.kruskal(group1, group2, group3)\n",
    "H # Принимаем нулевую гипотезу\n"
   ]
  },
  {
   "cell_type": "markdown",
   "metadata": {},
   "source": [
    "Задача 5. Заявляется, что партия изготавливается со средним арифметическим 2,5 см. Проверить\n",
    "данную гипотезу, если известно, что размеры изделий подчинены нормальному закону\n",
    "распределения. Объем выборки 10, уровень статистической значимости 5%\n",
    "2.51, 2.35, 2.74, 2.56, 2.40, 2.36, 2.65, 2.7, 2.67, 2.34"
   ]
  },
  {
   "cell_type": "code",
   "execution_count": 6,
   "metadata": {},
   "outputs": [
    {
     "name": "stdout",
     "output_type": "stream",
     "text": [
      "p > 0.05, accept H0\n"
     ]
    }
   ],
   "source": [
    "from math import sqrt\n",
    "sample = [2.51, 2.35, 2.74, 2.56, 2.40, 2.36, 2.65, 2.7, 2.67, 2.34]\n",
    "mean = np.mean(sample)\n",
    "mean_gen = 2.5\n",
    "a = 0.05\n",
    "D = np.var(sample, ddof=1)\n",
    "df = len(sample) - 1\n",
    "t_e = (mean - mean_gen)/sqrt(D/len(sample))\n",
    "t_e\n",
    "# t критическе при df = 9: 2.2622\n",
    "t_crit = 2.2622\n",
    "if t_e < abs(t_crit):\n",
    "    print(f'p > 0.05, accept H0')\n",
    "else:\n",
    "    print(f'p < 0.05, accept H1')\n"
   ]
  },
  {
   "cell_type": "markdown",
   "metadata": {},
   "source": [
    "Вариант с помощью функции"
   ]
  },
  {
   "cell_type": "code",
   "execution_count": 8,
   "metadata": {},
   "outputs": [
    {
     "data": {
      "text/plain": [
       "0.2935719996970314"
      ]
     },
     "execution_count": 8,
     "metadata": {},
     "output_type": "execute_result"
    }
   ],
   "source": [
    "t1 = st.t.ppf(.05/2, df = 9)\n",
    "p = 1 - st.t.cdf(t_e, df = 9)\n",
    "p\n"
   ]
  }
 ],
 "metadata": {
  "kernelspec": {
   "display_name": ".venv",
   "language": "python",
   "name": "python3"
  },
  "language_info": {
   "codemirror_mode": {
    "name": "ipython",
    "version": 3
   },
   "file_extension": ".py",
   "mimetype": "text/x-python",
   "name": "python",
   "nbconvert_exporter": "python",
   "pygments_lexer": "ipython3",
   "version": "3.10.10"
  },
  "orig_nbformat": 4
 },
 "nbformat": 4,
 "nbformat_minor": 2
}
