{
 "cells": [
  {
   "cell_type": "code",
   "execution_count": 7,
   "metadata": {},
   "outputs": [
    {
     "data": {
      "text/plain": [
       "TtestResult(statistic=1.3283484757831463, pvalue=0.19902265798859645, df=20.0)"
      ]
     },
     "execution_count": 7,
     "metadata": {},
     "output_type": "execute_result"
    }
   ],
   "source": [
    "from scipy import stats as st\n",
    "import numpy as np\n",
    "\n",
    "control_group = [2.5,2.2, 2.6, 2, 2.1, 1.8, 2.4, 2.3, 2.7, 2.7, 1.9]\n",
    "treatment_group = [2.5,1.7, 1.5, 2.5, 1.4, 1.9, 2.3, 2.0, 2.6, 2.3, 2.2]\n",
    "\n",
    "std_control = np.std(control_group, ddof=1)\n",
    "std_treatment_group = np.std(control_group, ddof=1)\n",
    "control_group_mean = np.mean(control_group)\n",
    "treatment_group_mean = np.mean(treatment_group)\n",
    "\n",
    "# print(std_control, std_treatment_group, control_group_mean, treatment_group_mean, len(control_group), len(treatment_group))\n",
    "test = (control_group_mean - treatment_group_mean)/(std_treatment_group/np.sqrt(len(treatment_group))+(std_control/np.sqrt(len(control_group))))\n",
    "test\n",
    "\n",
    "test2 = st.ttest_ind(control_group, treatment_group)\n",
    "test2"
   ]
  }
 ],
 "metadata": {
  "kernelspec": {
   "display_name": "Python 3",
   "language": "python",
   "name": "python3"
  },
  "language_info": {
   "codemirror_mode": {
    "name": "ipython",
    "version": 3
   },
   "file_extension": ".py",
   "mimetype": "text/x-python",
   "name": "python",
   "nbconvert_exporter": "python",
   "pygments_lexer": "ipython3",
   "version": "3.10.10"
  },
  "orig_nbformat": 4
 },
 "nbformat": 4,
 "nbformat_minor": 2
}
