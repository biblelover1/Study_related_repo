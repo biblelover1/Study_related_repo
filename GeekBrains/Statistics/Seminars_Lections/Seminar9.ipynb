{
 "cells": [
  {
   "cell_type": "markdown",
   "metadata": {},
   "source": [
    "Постройте графики для приведенных наборов данных. Найдите коэффициенты для линии\n",
    "регрессии и коэффициенты детерминации. Что вы замечаете? Нанесите на график модель\n",
    "линейной регрессии.\n",
    "X1= np.array([30,30,40, 40)]\n",
    "Y1= np.array([37, 47, 50, 60)]\n",
    "x2= np.array([30,30,40, 40, 20, 20, 50, 50])\n",
    "y2= np.array([37, 47, 50, 60, 25, 35, 62, 72])\n",
    "X3 = np.array([30,30,40, 40, 20, 20, 50, 50, 10, 10, 60, 60])\n",
    "Y3 = np.array([37, 47, 50, 60, 25, 35, 62, 72, 13, 23, 74, 84]) \n"
   ]
  },
  {
   "cell_type": "code",
   "execution_count": 11,
   "metadata": {},
   "outputs": [],
   "source": [
    "import numpy as np\n",
    "import matplotlib.pyplot as plt\n",
    "import pandas as pd\n",
    "import scipy.stats as st\n",
    "from sklearn.linear_model import LinearRegression"
   ]
  },
  {
   "cell_type": "code",
   "execution_count": 12,
   "metadata": {},
   "outputs": [
    {
     "data": {
      "text/plain": [
       "<matplotlib.collections.PathCollection at 0x1df02071110>"
      ]
     },
     "execution_count": 12,
     "metadata": {},
     "output_type": "execute_result"
    },
    {
     "data": {
      "image/png": "[encoded data removed]",
      "text/plain": [
       "<Figure size 640x480 with 1 Axes>"
      ]
     },
     "metadata": {},
     "output_type": "display_data"
    }
   ],
   "source": [
    "X1= np.array([30,30,40, 40])\n",
    "Y1= np.array([37, 47, 50, 60])\n",
    "plt.scatter(X1, Y1)"
   ]
  },
  {
   "cell_type": "code",
   "execution_count": 13,
   "metadata": {},
   "outputs": [
    {
     "data": {
      "text/plain": [
       "'b1: [[1.64012195 1.3       ]\\n [1.3        1.64012195]], b0:[[-8.90426813  3.        ]\\n [ 3.         -8.90426813]]'"
      ]
     },
     "execution_count": 13,
     "metadata": {},
     "output_type": "execute_result"
    }
   ],
   "source": [
    "b1 = (np.std(Y1)/np.std(X1))*np.corrcoef(X1, Y1)\n",
    "b0 = np.mean(Y1) - b1*np.mean(X1)\n",
    "f'b1: {b1}, b0:{b0}'"
   ]
  },
  {
   "cell_type": "code",
   "execution_count": 15,
   "metadata": {},
   "outputs": [
    {
     "data": {
      "text/plain": [
       "array([[30],\n",
       "       [30],\n",
       "       [40],\n",
       "       [40]])"
      ]
     },
     "execution_count": 15,
     "metadata": {},
     "output_type": "execute_result"
    }
   ],
   "source": [
    "x1_reshaped = X1.reshape(-1, 1)\n",
    "x1_reshaped"
   ]
  }
 ],
 "metadata": {
  "kernelspec": {
   "display_name": "Python 3",
   "language": "python",
   "name": "python3"
  },
  "language_info": {
   "codemirror_mode": {
    "name": "ipython",
    "version": 3
   },
   "file_extension": ".py",
   "mimetype": "text/x-python",
   "name": "python",
   "nbconvert_exporter": "python",
   "pygments_lexer": "ipython3",
   "version": "3.11.5"
  },
  "orig_nbformat": 4
 },
 "nbformat": 4,
 "nbformat_minor": 2
}
