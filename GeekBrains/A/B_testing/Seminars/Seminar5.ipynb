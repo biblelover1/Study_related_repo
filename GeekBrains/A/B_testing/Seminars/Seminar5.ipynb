{
 "cells": [
  {
   "cell_type": "code",
   "execution_count": 99,
   "metadata": {},
   "outputs": [],
   "source": [
    "import scipy.stats as st\n",
    "from math import sqrt\n",
    "import numpy as np"
   ]
  },
  {
   "cell_type": "code",
   "execution_count": 100,
   "metadata": {},
   "outputs": [
    {
     "data": {
      "text/plain": [
       "(-1.9709056010779908,\n",
       " -2.4019223070763065,\n",
       " 0.025000000000086064,\n",
       " 0.008573841131136684,\n",
       " 2.0,\n",
       " 3.6514837167011076)"
      ]
     },
     "execution_count": 100,
     "metadata": {},
     "output_type": "execute_result"
    }
   ],
   "source": [
    "x1 = 260\n",
    "x2 = 270\n",
    "sd1= 20\n",
    "sd2 = 40\n",
    "n1 = 100\n",
    "n2 = 120\n",
    "se1 = sd1/sqrt(n1)\n",
    "se2 = sd2/sqrt(n2)\n",
    "t = (x1 - x2)/(sqrt(sd1**2/n1 + sd2**2/n2))\n",
    "t_crit = st.t.ppf(0.05/2, df = 218)\n",
    "pval1 = 1 - st.t.cdf(abs(t_crit), df = 218)\n",
    "pval = 1 - st.t.cdf(abs(t), df = 218)\n",
    "t_crit, t, pval1, pval, se1, se2\n",
    "\n",
    "\n"
   ]
  },
  {
   "cell_type": "code",
   "execution_count": 101,
   "metadata": {},
   "outputs": [
    {
     "data": {
      "text/plain": [
       "((256.058188797844, 263.941811202156), (262.8032702905087, 277.1967297094913))"
      ]
     },
     "execution_count": 101,
     "metadata": {},
     "output_type": "execute_result"
    }
   ],
   "source": [
    "CI1_down = x1 + t_crit*se1\n",
    "CI1_up = x1 - t_crit*se1\n",
    "CI2_down = x2 + t_crit*se2\n",
    "CI2_up = x2 - t_crit*se2\n",
    "(CI1_down, CI1_up), (CI2_down, CI2_up)\n",
    "\n"
   ]
  },
  {
   "cell_type": "markdown",
   "metadata": {},
   "source": []
  }
 ],
 "metadata": {
  "kernelspec": {
   "display_name": "Python 3",
   "language": "python",
   "name": "python3"
  },
  "language_info": {
   "codemirror_mode": {
    "name": "ipython",
    "version": 3
   },
   "file_extension": ".py",
   "mimetype": "text/x-python",
   "name": "python",
   "nbconvert_exporter": "python",
   "pygments_lexer": "ipython3",
   "version": "3.11.5"
  }
 },
 "nbformat": 4,
 "nbformat_minor": 2
}
