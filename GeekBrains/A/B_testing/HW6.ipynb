{
 "cells": [
  {
   "cell_type": "markdown",
   "metadata": {},
   "source": [
    "Продакт на главной mail.ru решил протестировать в рекомендательной ленте контента вместо карточек со статьями видеоплеер с короткими видео. Нынешний таймспент на юзера в день в среднем равен 25 минут, а стандартная ошибка (SD) равна 156. Мы предполагаем, что в новой версии таймспент на юзера в день изменится на 10%. Средний трафик 20000 человек в день. Посчитайте сколько дней необходимо держать эксперимент при alpha = 5% и beta = 20% ."
   ]
  },
  {
   "cell_type": "markdown",
   "metadata": {},
   "source": [
    "## Первый вариант. Рисунок 1\n",
    "Рост числа пользователей до 27 минут(<10%)\n",
    "\n",
    "## Второй вариант. Рисунок 2\n",
    "Рост показателя до 28 минут (12%)\n",
    "\n"
   ]
  },
  {
   "cell_type": "markdown",
   "metadata": {},
   "source": [
    "<!-- Первый вариант - увеличение показателя на 10% - 27,5 минут -->\n",
    "![HW6_1_1](HW6_1_1.png) \n",
    "<!-- Второй вариант - увеличение time spent до 28 минут -->\n",
    "![HW6_1_2](HW6_1_2.png)"
   ]
  },
  {
   "cell_type": "code",
   "execution_count": 3,
   "metadata": {},
   "outputs": [
    {
     "data": {
      "text/plain": [
       "'First variant = 12.1653, second variant = 5.4068'"
      ]
     },
     "execution_count": 3,
     "metadata": {},
     "output_type": "execute_result"
    }
   ],
   "source": [
    "# first variant\n",
    "users_per_group = 121653\n",
    "traffic = 20000\n",
    "users_number = users_per_group * 2\n",
    "test_days = users_number/traffic\n",
    "test_days\n",
    "\n",
    "# second variant\n",
    "users_per_group2 = 54068\n",
    "traffic = 20000\n",
    "users_number = users_per_group2 * 2\n",
    "test_days2 = users_number/traffic\n",
    "test_days2\n",
    "f'First variant = {test_days}, second variant = {test_days2}'"
   ]
  },
  {
   "cell_type": "markdown",
   "metadata": {},
   "source": [
    "Наша продуктовая команда в ecommerce магазине планирует запустить тест, направленный на ускорение загрузки сайта. Одна из основных метрик bounce rate в GA = 40%. Мы предполагаем, что при оптимизации сайта она изменится минимум на 20%.Средний трафик 4000 человек в день. Посчитайте сколько нам нужно дней держать эксперимент при alpha = 5% и beta = 20%"
   ]
  },
  {
   "cell_type": "markdown",
   "metadata": {},
   "source": [
    "С учетом относительного прироста на 20% размер выорки следующий"
   ]
  },
  {
   "cell_type": "markdown",
   "metadata": {},
   "source": [
    "![HW6_2_1](HW6_2_1.png)"
   ]
  },
  {
   "cell_type": "markdown",
   "metadata": {},
   "source": [
    "При ежедненвом трафике в 4000 пользователей достаточно одного дня эксперимента"
   ]
  },
  {
   "cell_type": "markdown",
   "metadata": {},
   "source": []
  }
 ],
 "metadata": {
  "kernelspec": {
   "display_name": "Python 3",
   "language": "python",
   "name": "python3"
  },
  "language_info": {
   "codemirror_mode": {
    "name": "ipython",
    "version": 3
   },
   "file_extension": ".py",
   "mimetype": "text/x-python",
   "name": "python",
   "nbconvert_exporter": "python",
   "pygments_lexer": "ipython3",
   "version": "3.11.5"
  }
 },
 "nbformat": 4,
 "nbformat_minor": 2
}
