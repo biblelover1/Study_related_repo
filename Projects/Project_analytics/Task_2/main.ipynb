{
 "cells": [
  {
   "cell_type": "code",
   "execution_count": 30,
   "metadata": {},
   "outputs": [],
   "source": [
    "import numpy as np \n",
    "import pandas as pd\n",
    "import matplotlib.pyplot as plt\n",
    "import seaborn as sns\n",
    "from scipy import stats as st \n",
    "import statsmodels.stats.power as smp\n",
    "from statsmodels.stats import proportion\n",
    "import warnings\n",
    "warnings.filterwarnings(\"ignore\", category=UserWarning) "
   ]
  },
  {
   "cell_type": "markdown",
   "metadata": {},
   "source": [
    "## Задание 1: \n",
    "Проанализируйте конкурентов на рынке (SkyEng, Lingvoleo и прочие) и сформулируйте гипотезу по улучшению первого экрана лендинга (https://english22.tilda.ws/)\n",
    "\n",
    "1. Если добавить на главную страницу сайта форму регистрации (для обратной связи), это увеличит конверсию пользователей на 5%, потому что пользоватлем будет удобнее и быстрее оставлять заявки\n",
    "2. Если на главную страницу сайта добавить инормацию об обучающих тарифах, это увеличит конверсию пользователей на 7%, т.к. пользователи смогут быстрее получать информацию о стоимости обучения без прямого контакта со школой\n"
   ]
  },
  {
   "cell_type": "markdown",
   "metadata": {},
   "source": [
    "## Задание 2\n",
    "Подведите результаты эксперимента в экселе по следующим данным (df) Стат значимо ли отличается ARPPU в двух группах ? Какие рекомендации дадите менеджеру?"
   ]
  },
  {
   "cell_type": "code",
   "execution_count": 31,
   "metadata": {},
   "outputs": [
    {
     "data": {
      "text/html": [
       "<div>\n",
       "<style scoped>\n",
       "    .dataframe tbody tr th:only-of-type {\n",
       "        vertical-align: middle;\n",
       "    }\n",
       "\n",
       "    .dataframe tbody tr th {\n",
       "        vertical-align: top;\n",
       "    }\n",
       "\n",
       "    .dataframe thead th {\n",
       "        text-align: right;\n",
       "    }\n",
       "</style>\n",
       "<table border=\"1\" class=\"dataframe\">\n",
       "  <thead>\n",
       "    <tr style=\"text-align: right;\">\n",
       "      <th></th>\n",
       "      <th>revenue</th>\n",
       "      <th>num_purchases</th>\n",
       "      <th>purchase</th>\n",
       "      <th>ab_group</th>\n",
       "      <th>av_site visit</th>\n",
       "    </tr>\n",
       "  </thead>\n",
       "  <tbody>\n",
       "    <tr>\n",
       "      <th>0</th>\n",
       "      <td>0.0</td>\n",
       "      <td>0</td>\n",
       "      <td>0</td>\n",
       "      <td>A</td>\n",
       "      <td>9.040174</td>\n",
       "    </tr>\n",
       "    <tr>\n",
       "      <th>1</th>\n",
       "      <td>0.0</td>\n",
       "      <td>0</td>\n",
       "      <td>0</td>\n",
       "      <td>A</td>\n",
       "      <td>4.811628</td>\n",
       "    </tr>\n",
       "    <tr>\n",
       "      <th>2</th>\n",
       "      <td>0.0</td>\n",
       "      <td>0</td>\n",
       "      <td>0</td>\n",
       "      <td>A</td>\n",
       "      <td>7.342623</td>\n",
       "    </tr>\n",
       "    <tr>\n",
       "      <th>3</th>\n",
       "      <td>0.0</td>\n",
       "      <td>0</td>\n",
       "      <td>0</td>\n",
       "      <td>A</td>\n",
       "      <td>7.744581</td>\n",
       "    </tr>\n",
       "    <tr>\n",
       "      <th>4</th>\n",
       "      <td>0.0</td>\n",
       "      <td>0</td>\n",
       "      <td>0</td>\n",
       "      <td>A</td>\n",
       "      <td>10.511814</td>\n",
       "    </tr>\n",
       "  </tbody>\n",
       "</table>\n",
       "</div>"
      ],
      "text/plain": [
       "   revenue  num_purchases  purchase ab_group  av_site visit\n",
       "0      0.0              0         0        A       9.040174\n",
       "1      0.0              0         0        A       4.811628\n",
       "2      0.0              0         0        A       7.342623\n",
       "3      0.0              0         0        A       7.744581\n",
       "4      0.0              0         0        A      10.511814"
      ]
     },
     "execution_count": 31,
     "metadata": {},
     "output_type": "execute_result"
    }
   ],
   "source": [
    "# Получим данные из файла\n",
    "df = pd.read_csv('./ab_stats (2).csv')\n",
    "df.head()"
   ]
  },
  {
   "cell_type": "code",
   "execution_count": 32,
   "metadata": {},
   "outputs": [
    {
     "data": {
      "text/html": [
       "<div>\n",
       "<style scoped>\n",
       "    .dataframe tbody tr th:only-of-type {\n",
       "        vertical-align: middle;\n",
       "    }\n",
       "\n",
       "    .dataframe tbody tr th {\n",
       "        vertical-align: top;\n",
       "    }\n",
       "\n",
       "    .dataframe thead th {\n",
       "        text-align: right;\n",
       "    }\n",
       "</style>\n",
       "<table border=\"1\" class=\"dataframe\">\n",
       "  <thead>\n",
       "    <tr style=\"text-align: right;\">\n",
       "      <th></th>\n",
       "      <th>revenue</th>\n",
       "      <th>num_purchases</th>\n",
       "      <th>purchase</th>\n",
       "      <th>av_site visit</th>\n",
       "    </tr>\n",
       "  </thead>\n",
       "  <tbody>\n",
       "    <tr>\n",
       "      <th>count</th>\n",
       "      <td>23652.000000</td>\n",
       "      <td>23652.000000</td>\n",
       "      <td>23652.000000</td>\n",
       "      <td>23652.000000</td>\n",
       "    </tr>\n",
       "    <tr>\n",
       "      <th>mean</th>\n",
       "      <td>0.324689</td>\n",
       "      <td>0.043590</td>\n",
       "      <td>0.020717</td>\n",
       "      <td>7.013112</td>\n",
       "    </tr>\n",
       "    <tr>\n",
       "      <th>std</th>\n",
       "      <td>9.557730</td>\n",
       "      <td>1.079403</td>\n",
       "      <td>0.142438</td>\n",
       "      <td>3.154584</td>\n",
       "    </tr>\n",
       "    <tr>\n",
       "      <th>min</th>\n",
       "      <td>0.000000</td>\n",
       "      <td>0.000000</td>\n",
       "      <td>0.000000</td>\n",
       "      <td>-12.073486</td>\n",
       "    </tr>\n",
       "    <tr>\n",
       "      <th>25%</th>\n",
       "      <td>0.000000</td>\n",
       "      <td>0.000000</td>\n",
       "      <td>0.000000</td>\n",
       "      <td>5.173787</td>\n",
       "    </tr>\n",
       "    <tr>\n",
       "      <th>50%</th>\n",
       "      <td>0.000000</td>\n",
       "      <td>0.000000</td>\n",
       "      <td>0.000000</td>\n",
       "      <td>7.007936</td>\n",
       "    </tr>\n",
       "    <tr>\n",
       "      <th>75%</th>\n",
       "      <td>0.000000</td>\n",
       "      <td>0.000000</td>\n",
       "      <td>0.000000</td>\n",
       "      <td>8.864119</td>\n",
       "    </tr>\n",
       "    <tr>\n",
       "      <th>max</th>\n",
       "      <td>1303.609284</td>\n",
       "      <td>152.000000</td>\n",
       "      <td>1.000000</td>\n",
       "      <td>22.446822</td>\n",
       "    </tr>\n",
       "  </tbody>\n",
       "</table>\n",
       "</div>"
      ],
      "text/plain": [
       "            revenue  num_purchases      purchase  av_site visit\n",
       "count  23652.000000   23652.000000  23652.000000   23652.000000\n",
       "mean       0.324689       0.043590      0.020717       7.013112\n",
       "std        9.557730       1.079403      0.142438       3.154584\n",
       "min        0.000000       0.000000      0.000000     -12.073486\n",
       "25%        0.000000       0.000000      0.000000       5.173787\n",
       "50%        0.000000       0.000000      0.000000       7.007936\n",
       "75%        0.000000       0.000000      0.000000       8.864119\n",
       "max     1303.609284     152.000000      1.000000      22.446822"
      ]
     },
     "execution_count": 32,
     "metadata": {},
     "output_type": "execute_result"
    }
   ],
   "source": [
    "# проверим статитсики данных\n",
    "df.describe()"
   ]
  },
  {
   "cell_type": "code",
   "execution_count": 33,
   "metadata": {},
   "outputs": [
    {
     "name": "stdout",
     "output_type": "stream",
     "text": [
      "<class 'pandas.core.frame.DataFrame'>\n",
      "RangeIndex: 23652 entries, 0 to 23651\n",
      "Data columns (total 5 columns):\n",
      " #   Column         Non-Null Count  Dtype  \n",
      "---  ------         --------------  -----  \n",
      " 0   revenue        23652 non-null  float64\n",
      " 1   num_purchases  23652 non-null  int64  \n",
      " 2   purchase       23652 non-null  int64  \n",
      " 3   ab_group       23652 non-null  object \n",
      " 4   av_site visit  23652 non-null  float64\n",
      "dtypes: float64(2), int64(2), object(1)\n",
      "memory usage: 924.0+ KB\n"
     ]
    }
   ],
   "source": [
    "df.info()"
   ]
  },
  {
   "cell_type": "code",
   "execution_count": 34,
   "metadata": {},
   "outputs": [],
   "source": [
    "new_df = df.drop_duplicates()"
   ]
  },
  {
   "cell_type": "code",
   "execution_count": 35,
   "metadata": {},
   "outputs": [
    {
     "data": {
      "text/plain": [
       "(18.698468640624995, 12.36211875641025)"
      ]
     },
     "execution_count": 35,
     "metadata": {},
     "output_type": "execute_result"
    }
   ],
   "source": [
    "# Рассчитаем ARPPU для групп\n",
    "revenue_A = new_df[new_df['ab_group'] == 'A']['revenue'].sum()\n",
    "paying_users_a = new_df[(df['ab_group'] == 'A') & (new_df['purchase'] > 0)]['purchase'].count()\n",
    "arppu_a = revenue_A/paying_users_a\n",
    "\n",
    "revenue_B = new_df[new_df['ab_group'] == 'B']['revenue'].sum()\n",
    "paying_users_b = new_df[(df['ab_group'] == 'B') & (new_df['purchase'] > 0)]['purchase'].count()\n",
    "arppu_b = revenue_B/paying_users_b\n",
    "arppu_b\n",
    "(arppu_a, arppu_b)"
   ]
  },
  {
   "cell_type": "code",
   "execution_count": 36,
   "metadata": {},
   "outputs": [
    {
     "data": {
      "image/png": "[encoded data removed]",
      "text/plain": [
       "<Figure size 640x480 with 1 Axes>"
      ]
     },
     "metadata": {},
     "output_type": "display_data"
    }
   ],
   "source": [
    "# Построим боксплот для revenue\n",
    "revenue_A = new_df[new_df['ab_group'] == 'A']['revenue']\n",
    "sns.boxplot(data=new_df, x='ab_group', y='revenue')\n",
    "plt.show()"
   ]
  },
  {
   "cell_type": "code",
   "execution_count": 37,
   "metadata": {},
   "outputs": [
    {
     "data": {
      "image/png": "[encoded data removed]",
      "text/plain": [
       "<Figure size 640x480 with 1 Axes>"
      ]
     },
     "metadata": {},
     "output_type": "display_data"
    }
   ],
   "source": [
    "sns_df = new_df[new_df['revenue']<100]\n",
    "sns.histplot(data=sns_df, x='revenue', hue='ab_group', shrink=0.5)\n",
    "plt.show()"
   ]
  },
  {
   "cell_type": "code",
   "execution_count": 38,
   "metadata": {},
   "outputs": [
    {
     "data": {
      "text/plain": [
       "'Количество человек в группе А = 9989, количество человек в группе В = 9930'"
      ]
     },
     "execution_count": 38,
     "metadata": {},
     "output_type": "execute_result"
    }
   ],
   "source": [
    "# Выделим группы в отдельные датасеты и проверим их на нормальность\n",
    "group_a = new_df[new_df['ab_group'] == 'A']\n",
    "group_b = new_df[new_df['ab_group'] == 'B']\n",
    "f'Количество человек в группе А = {group_a.revenue.count()}, количество человек в группе В = {group_b.revenue.count()}'"
   ]
  },
  {
   "cell_type": "code",
   "execution_count": 39,
   "metadata": {},
   "outputs": [
    {
     "data": {
      "text/plain": [
       "'ARPPU_A: p_a = 2.4723388038366e-32, p_b = 1.599590675565433e-22'"
      ]
     },
     "execution_count": 39,
     "metadata": {},
     "output_type": "execute_result"
    }
   ],
   "source": [
    "# ARPPU\n",
    "control = group_a[group_a['revenue'] > 0]['revenue']\n",
    "test = group_b[group_b['revenue'] > 0]['revenue']\n",
    "\n",
    "statistic, p_val_a = st.shapiro(control)\n",
    "statistic, p_val_b = st.shapiro(test)\n",
    "f'ARPPU_A: p_a = {p_val_a}, p_b = {p_val_b}' # отклоняем гипотезу о нормальности распределения\n"
   ]
  },
  {
   "cell_type": "code",
   "execution_count": 40,
   "metadata": {},
   "outputs": [
    {
     "name": "stdout",
     "output_type": "stream",
     "text": [
      "ARPPU p-value = 0.8872.\n"
     ]
    }
   ],
   "source": [
    "# Испльзуем непараметрический критерий для оценки разницы ARPPU в двух исследуемых группах\n",
    "control = group_a[group_a['revenue'] > 0]['revenue']\n",
    "test = group_b[group_b['revenue'] > 0]['revenue']\n",
    "test_stat, pvalue = st.mannwhitneyu(test, control)\n",
    "print('ARPPU p-value = %.4f.' % (pvalue)) # нет статистически значимых различий между двумя группам"
   ]
  },
  {
   "cell_type": "code",
   "execution_count": 41,
   "metadata": {},
   "outputs": [
    {
     "data": {
      "text/plain": [
       "(256, 234)"
      ]
     },
     "execution_count": 41,
     "metadata": {},
     "output_type": "execute_result"
    }
   ],
   "source": [
    "control = group_a[group_a['revenue'] > 0]['revenue'].count()\n",
    "test = group_b[group_b['revenue'] > 0]['revenue'].count()\n",
    "control, test"
   ]
  },
  {
   "cell_type": "markdown",
   "metadata": {},
   "source": [
    "# Выводы:\n",
    "По данным A/B теста статистических различий между группами по ARPPU не было обнаружено. Следует увеличить размер выборки, чтобы обнаружиь разницу"
   ]
  },
  {
   "cell_type": "markdown",
   "metadata": {},
   "source": [
    "# Задание 3\n",
    "Мы хотим провести А/Б-тест для трех источников трафика. Нынешняя конверсия равна 5%,\n",
    "мы ожидаем прирост в 0,2%.\n",
    "Уровень доверия 97% и уровень мощности 87%.\n",
    "Всего на наш продукт заходит 40 000 пользователей в месяц."
   ]
  },
  {
   "cell_type": "markdown",
   "metadata": {},
   "source": [
    "## 3.1\n",
    "За сколько дней мы сможем протестировать гипотезу? И что вы можете посоветовать по\n",
    "результатам подсчета?"
   ]
  },
  {
   "cell_type": "markdown",
   "metadata": {},
   "source": [
    "С учетом размера выборки в 1 522 716 человек на 2 группы, число дней, необходимое для проведения теста равно (см.далее)\n",
    "\n",
    "![размер выборки](./pictures/расчет_выборки_нов.png)"
   ]
  },
  {
   "cell_type": "code",
   "execution_count": 42,
   "metadata": {},
   "outputs": [
    {
     "data": {
      "text/plain": [
       "'Количество дней, необходимое для проведения теста = 1142.03'"
      ]
     },
     "execution_count": 42,
     "metadata": {},
     "output_type": "execute_result"
    }
   ],
   "source": [
    "n = 1522706\n",
    "users_month = 40000\n",
    "days = (n/users_month)*30\n",
    "f'Количество дней, необходимое для проведения теста = {round(days, 2)}'"
   ]
  },
  {
   "cell_type": "markdown",
   "metadata": {},
   "source": [
    "## 3.2\n",
    "Допустим в задаче нет проблемы с количеством посетителей на сайт, тогда подведите\n",
    "результаты тестирования, если у нас следующие результаты по количеству конверсии: \n",
    "1) 25 000\n",
    "2) 30 000\n",
    "3) 32 000"
   ]
  },
  {
   "cell_type": "markdown",
   "metadata": {},
   "source": [
    "В соответствие с результатами теста: статистически значимые отличия обнаружены: 2 вариант лушче первого. 3 вариант лучше первого и второго\n",
    " \n",
    "![check](./pictures/check.png)"
   ]
  },
  {
   "cell_type": "markdown",
   "metadata": {},
   "source": [
    "## 4\n",
    "Вы решили сравнивать метрику CPA в двух группах. Размер выборки - 2350 элементов в\n",
    "каждой группе.\n",
    "Для проверки нормальности распределения на выборке в 2350 наблюдений применили ,\n",
    "критерий Шапиро-Уилка и получили p-value, равный 0.00002, alpha = 5%.\n",
    "Какой бы вывод мы могли сделать в данном случае?\n",
    "В этом случае какой статистический критерий для проверки первоначальной гипотезы тут лучше\n",
    "всего подойдёт и почему ?"
   ]
  },
  {
   "cell_type": "markdown",
   "metadata": {},
   "source": [
    "## Ответ\n",
    "Критерий Шапиро-Уилка применяется с целью проверки гипотезы о том, что исследуемая выборка взята из генеральной совокупности с нормальным распределением (Н0). P value < 0.05 позволяет отклонить нулевую гипотезу, тем самым считая, что генеральная выборка не подчиняется нормальному распределению. В связи с этим для проверки гипотез следует применять непараметрические критерии, в данном случае - это критерий Манна-Уитни"
   ]
  },
  {
   "cell_type": "markdown",
   "metadata": {},
   "source": [
    "## 5\n",
    "Мы провели АБ-тест на увеличение average timespent per user. По итогам тестирования мы\n",
    "получили следующие данные. Является ли результат статистически значимым с уровнем\n",
    "доверия 80%? Какую версию мы выкатим на продакшн?\n",
    "A) Средняя - 360, отклонение - 40, количество - 9802\n",
    "B) Средняя - 352, отклонение - 58, количество - 9789"
   ]
  },
  {
   "cell_type": "markdown",
   "metadata": {},
   "source": [
    "По результатам проверки АБ-теста, две группы статистически значимо различаются. Первая версия продукта значимо повышает среднее время пользователя\n",
    "\n",
    "![check2](./pictures/check2.png)"
   ]
  },
  {
   "cell_type": "code",
   "execution_count": 43,
   "metadata": {},
   "outputs": [
    {
     "data": {
      "text/plain": [
       "'Отклоняем нулевую гипотезу, т.к. p value < 0.05'"
      ]
     },
     "execution_count": 43,
     "metadata": {},
     "output_type": "execute_result"
    }
   ],
   "source": [
    "# Дополнительно проверим статистически значимые различия между группами\n",
    "first_sample = {'mean': 360,\n",
    "                'std': 40,\n",
    "                'number': 9802}\n",
    "second_sample = {'mean': 352,\n",
    "                'std': 58,\n",
    "                'number': 9789}\n",
    "res = st.ttest_ind_from_stats(mean1=first_sample['mean'], std1=first_sample['std'], nobs1=first_sample['number'], mean2=second_sample['mean'], std2=second_sample['std'], nobs2=second_sample['number'])\n",
    "'{} нулевую гипотезу, т.к. {} {} 0.05'.format('Отклоняем', 'p value', '<' if res.pvalue < 0.05 else 'Не отклоняем', 'p value', '>')"
   ]
  },
  {
   "cell_type": "markdown",
   "metadata": {},
   "source": [
    "## 6\n",
    "Создайте техническую архитектуру проекта по аб тестированию продукта он-лайн кинотеатра\n",
    "с учетом кросс-девайс аналитики по следующей гипотезе:\n",
    "Если договориться с банком о 99% кэшбэке на подписку первого месяца, то это повысит\n",
    "конверсию в подписку на 30%, благодаря упрощенному принятию решения со стороны\n",
    "пользователя.\n",
    "На схеме необходимо отобразить:\n",
    "1) Управленческий процесс по договоренностям с внешними партнерами\n",
    "2) Архитектуру данных с указанием систем, из которых будем скачивать данные\n",
    "3) Внутрикомандное взаимодействие"
   ]
  },
  {
   "cell_type": "markdown",
   "metadata": {},
   "source": [
    "## Решение\n",
    "1, 3: ![AB_test](./pictures/AB_test_decomposition.png)\n",
    "\n",
    "2. ![AB_test](./pictures/Architeture%20of%20data.drawio.png)"
   ]
  }
 ],
 "metadata": {
  "kernelspec": {
   "display_name": "Python 3",
   "language": "python",
   "name": "python3"
  },
  "language_info": {
   "codemirror_mode": {
    "name": "ipython",
    "version": 3
   },
   "file_extension": ".py",
   "mimetype": "text/x-python",
   "name": "python",
   "nbconvert_exporter": "python",
   "pygments_lexer": "ipython3",
   "version": "3.11.5"
  }
 },
 "nbformat": 4,
 "nbformat_minor": 2
}
