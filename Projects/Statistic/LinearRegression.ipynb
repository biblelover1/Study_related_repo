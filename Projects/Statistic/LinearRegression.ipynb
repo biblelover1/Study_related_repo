{
 "cells": [
  {
   "cell_type": "code",
   "execution_count": 57,
   "metadata": {},
   "outputs": [],
   "source": [
    "import numpy as np\n",
    "import matplotlib.pyplot as plt\n",
    "import scipy.stats as st\n",
    "import pandas as pd\n",
    "from sklearn.linear_model import LinearRegression"
   ]
  },
  {
   "cell_type": "markdown",
   "metadata": {},
   "source": [
    "Задача 1 Даны значения величины заработной платы заемщиков банка (zp) и значения их\n",
    "поведенческого кредитного скоринга (ks): zp = [35, 45, 190, 200, 40, 70, 54, 150, 120, 110],\n",
    "ks = [401, 574, 874, 919, 459, 739, 653, 902, 746, 832]. Используя математические\n",
    "операции, посчитать коэффициенты линейной регрессии, приняв за X заработную плату\n",
    "(то есть, zp - признак), а за y - значения скорингового балла (то есть, ks - целевая\n",
    "переменная). Произвести расчет как с использованием intercept, так и без."
   ]
  },
  {
   "cell_type": "code",
   "execution_count": 58,
   "metadata": {},
   "outputs": [],
   "source": [
    "zp = np.array([35, 45, 190, 200, 40, 70, 54, 150, 120, 110])\n",
    "ks = np.array([401, 574, 874, 919, 459, 739, 653, 902, 746, 832])\n",
    "\n"
   ]
  },
  {
   "cell_type": "code",
   "execution_count": 59,
   "metadata": {},
   "outputs": [],
   "source": [
    "model = LinearRegression()\n",
    "zp_matrix = zp.reshape(-1, 1)\n"
   ]
  },
  {
   "cell_type": "code",
   "execution_count": 60,
   "metadata": {},
   "outputs": [
    {
     "data": {
      "text/plain": [
       "(444.17735732435943, array([2.62053888]))"
      ]
     },
     "execution_count": 60,
     "metadata": {},
     "output_type": "execute_result"
    }
   ],
   "source": [
    "model.fit(zp_matrix, ks)\n",
    "b0 = model.intercept_\n",
    "b1 = model.coef_\n",
    "b0, b1"
   ]
  },
  {
   "cell_type": "code",
   "execution_count": 1,
   "metadata": {},
   "outputs": [
    {
     "ename": "NameError",
     "evalue": "name 'plt' is not defined",
     "output_type": "error",
     "traceback": [
      "\u001b[1;31m---------------------------------------------------------------------------\u001b[0m",
      "\u001b[1;31mNameError\u001b[0m                                 Traceback (most recent call last)",
      "\u001b[1;32mc:\\Users\\evgen\\OneDrive\\Рабочий стол\\Evgeniy\\Education\\Study\\Statistics\\HomeWork\\HW9.ipynb Cell 6\u001b[0m line \u001b[0;36m1\n\u001b[1;32m----> <a href='vscode-notebook-cell:/c%3A/Users/evgen/OneDrive/%D0%A0%D0%B0%D0%B1%D0%BE%D1%87%D0%B8%D0%B9%20%D1%81%D1%82%D0%BE%D0%BB/Evgeniy/Education/Study/Statistics/HomeWork/HW9.ipynb#W5sZmlsZQ%3D%3D?line=0'>1</a>\u001b[0m plt\u001b[39m.\u001b[39mscatter(zp, ks)\n\u001b[0;32m      <a href='vscode-notebook-cell:/c%3A/Users/evgen/OneDrive/%D0%A0%D0%B0%D0%B1%D0%BE%D1%87%D0%B8%D0%B9%20%D1%81%D1%82%D0%BE%D0%BB/Evgeniy/Education/Study/Statistics/HomeWork/HW9.ipynb#W5sZmlsZQ%3D%3D?line=1'>2</a>\u001b[0m plt\u001b[39m.\u001b[39mplot(zp, b0\u001b[39m+\u001b[39mb1\u001b[39m*\u001b[39mzp)\n\u001b[0;32m      <a href='vscode-notebook-cell:/c%3A/Users/evgen/OneDrive/%D0%A0%D0%B0%D0%B1%D0%BE%D1%87%D0%B8%D0%B9%20%D1%81%D1%82%D0%BE%D0%BB/Evgeniy/Education/Study/Statistics/HomeWork/HW9.ipynb#W5sZmlsZQ%3D%3D?line=2'>3</a>\u001b[0m plt\u001b[39m.\u001b[39mshow()\n",
      "\u001b[1;31mNameError\u001b[0m: name 'plt' is not defined"
     ]
    }
   ],
   "source": [
    "plt.scatter(zp, ks)\n",
    "plt.plot(zp, b0+b1*zp)\n",
    "plt.show()"
   ]
  },
  {
   "cell_type": "markdown",
   "metadata": {},
   "source": [
    "Задача 2 Посчитать коэффициент линейной регрессии при заработной плате (zp), используя\n",
    "градиентный спуск (без intercept)."
   ]
  },
  {
   "cell_type": "code",
   "execution_count": 62,
   "metadata": {},
   "outputs": [
    {
     "name": "stdout",
     "output_type": "stream",
     "text": [
      "B1: 0.001622834\tmse534163.5772627632\n",
      "B1: 0.00324563508892648\tmse533900.332427341\n",
      "B1: 0.004868403267446877\tmse533637.1654892111\n",
      "B1: 0.006491138536228612\tmse533374.0764438506\n",
      "B1: 0.008113840895939098\tmse533111.0652867372\n",
      "B1: 0.009736510347245729\tmse532848.1320133479\n",
      "B1: 0.011359146890815887\tmse532585.2766191615\n",
      "B1: 0.01298175052731694\tmse532322.4990996557\n",
      "B1: 0.014604321257416246\tmse532059.7994503088\n",
      "B1: 0.016226859081781148\tmse531797.1776665993\n"
     ]
    }
   ],
   "source": [
    "B1 = 0\n",
    "B0 = 0\n",
    "alfa = pow(10, -8)\n",
    "n = 10\n",
    "\n",
    "def mse(B1, x, y, n = 10):\n",
    "    return ((B1*x - y)**2).sum()/n\n",
    "\n",
    "# B1 (t + 1) = B1 (t) - альфа * ошибка * x\n",
    "\n",
    "for i in range(10):\n",
    "    B1 -= alfa * 2*np.sum(B1*zp-ks/n*zp)\n",
    "   \n",
    "    print(f'B1: {B1}\\tmse{mse(B1, zp, ks)}')\n",
    "\n",
    "\n",
    "\n"
   ]
  },
  {
   "cell_type": "markdown",
   "metadata": {},
   "source": [
    "Задача 3 (Дополнительно) Произвести вычисления как в пункте 2, но с вычислением intercept. Учесть, что\n",
    "изменение коэффициентов должно производиться\n",
    "на каждом шаге одновременно (то есть изменение одного коэффициента не должно\n",
    "влиять на изменение другого во время одной итерации)."
   ]
  },
  {
   "cell_type": "code",
   "execution_count": 63,
   "metadata": {},
   "outputs": [
    {
     "name": "stdout",
     "output_type": "stream",
     "text": [
      "B1: 0.001622834\tBO: 1.4198000000000002e-05\tmse: 534163.5772627632\n",
      "B1: 0.00324563508892648\tBO: 2.8395712064560004e-05\tmse: 533900.332427341\n",
      "B1: 0.004868403267446877\tBO: 4.259313619951933e-05\tmse: 533637.1654892111\n",
      "B1: 0.006491138536228612\tBO: 5.6790272410717204e-05\tmse: 533374.0764438506\n",
      "B1: 0.008113840895939098\tBO: 7.098712070399272e-05\tmse: 533111.0652867372\n",
      "B1: 0.009736510347245729\tBO: 8.518368108518485e-05\tmse: 532848.1320133479\n",
      "B1: 0.011359146890815887\tBO: 9.937995356013244e-05\tmse: 532585.2766191615\n",
      "B1: 0.01298175052731694\tBO: 0.00011357593813467424\tmse: 532322.4990996557\n",
      "B1: 0.014604321257416246\tBO: 0.00012777163481464887\tmse: 532059.7994503088\n",
      "B1: 0.016226859081781148\tBO: 0.00014196704360589483\tmse: 531797.1776665993\n"
     ]
    }
   ],
   "source": [
    "B1 = 0\n",
    "B0 = 0\n",
    "alfa = pow(10, -8)\n",
    "n = 10\n",
    "\n",
    "def mse(B1, x, y, n = 10):\n",
    "    return ((B1*x - y)**2).sum()/n\n",
    "\n",
    "# B1 (t + 1) = B1 (t) - альфа * ошибка * x\n",
    "# B0 (t + 1) = B0 (t) - альфа * ошибка\n",
    "for i in range(10):\n",
    "    B1 -= alfa * 2*np.sum(B1*zp-ks/n*zp)\n",
    "    B0 -= alfa * 2*np.sum(B0*zp-ks/n)\n",
    "    print(f'B1: {B1}\\tBO: {B0}\\tmse: {mse(B1, zp, ks)}')"
   ]
  }
 ],
 "metadata": {
  "kernelspec": {
   "display_name": "Python 3",
   "language": "python",
   "name": "python3"
  },
  "language_info": {
   "codemirror_mode": {
    "name": "ipython",
    "version": 3
   },
   "file_extension": ".py",
   "mimetype": "text/x-python",
   "name": "python",
   "nbconvert_exporter": "python",
   "pygments_lexer": "ipython3",
   "version": "3.11.5"
  },
  "orig_nbformat": 4
 },
 "nbformat": 4,
 "nbformat_minor": 2
}
